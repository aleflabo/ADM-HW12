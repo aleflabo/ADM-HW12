{
 "cells": [
  {
   "cell_type": "code",
   "execution_count": 325,
   "metadata": {},
   "outputs": [
    {
     "data": {
      "text/html": [
       "<div>\n",
       "<style scoped>\n",
       "    .dataframe tbody tr th:only-of-type {\n",
       "        vertical-align: middle;\n",
       "    }\n",
       "\n",
       "    .dataframe tbody tr th {\n",
       "        vertical-align: top;\n",
       "    }\n",
       "\n",
       "    .dataframe thead th {\n",
       "        text-align: right;\n",
       "    }\n",
       "</style>\n",
       "<table border=\"1\" class=\"dataframe\">\n",
       "  <thead>\n",
       "    <tr style=\"text-align: right;\">\n",
       "      <th></th>\n",
       "      <th>tpep_pickup_datetime</th>\n",
       "      <th>tpep_dropoff_datetime</th>\n",
       "      <th>PULocationID</th>\n",
       "    </tr>\n",
       "  </thead>\n",
       "  <tbody>\n",
       "    <tr>\n",
       "      <th>0</th>\n",
       "      <td>2018-01-01 00:21:05</td>\n",
       "      <td>2018-01-01 00:24:23</td>\n",
       "      <td>41</td>\n",
       "    </tr>\n",
       "    <tr>\n",
       "      <th>1</th>\n",
       "      <td>2018-01-01 00:44:55</td>\n",
       "      <td>2018-01-01 01:03:05</td>\n",
       "      <td>239</td>\n",
       "    </tr>\n",
       "  </tbody>\n",
       "</table>\n",
       "</div>"
      ],
      "text/plain": [
       "  tpep_pickup_datetime tpep_dropoff_datetime  PULocationID\n",
       "0  2018-01-01 00:21:05   2018-01-01 00:24:23            41\n",
       "1  2018-01-01 00:44:55   2018-01-01 01:03:05           239"
      ]
     },
     "execution_count": 325,
     "metadata": {},
     "output_type": "execute_result"
    }
   ],
   "source": [
    "import pandas as pd\n",
    "from datetime import datetime\n",
    "import matplotlib.pyplot as plt\n",
    "\n",
    "j  = pd.read_csv(\"yellow_tripdata_2018-01.csv\",usecols= ['tpep_pickup_datetime', 'tpep_dropoff_datetime', 'PULocationID'])\n",
    "j"
   ]
  },
  {
   "cell_type": "code",
   "execution_count": 71,
   "metadata": {},
   "outputs": [],
   "source": [
    "data  = pd.read_csv(\"yellow_tripdata_2018-01.csv\", usecols= ['tpep_pickup_datetime', 'tpep_dropoff_datetime', 'PULocationID'])\n",
    "data = data[data.tpep_pickup_datetime != data.tpep_dropoff_datetime]\n"
   ]
  },
  {
   "cell_type": "code",
   "execution_count": 270,
   "metadata": {
    "scrolled": true
   },
   "outputs": [],
   "source": [
    "FMT = '%Y-%m-%d  %H:%M:%S'\n",
    "pickup_time = pd.to_datetime(data['tpep_pickup_datetime'].str.strip(), format = FMT)\n",
    "dropoff_time = pd.to_datetime(data['tpep_dropoff_datetime'].str.strip(), format = FMT)\n",
    "delta = (dropoff_time - pickup_time).astype('timedelta64[m]')\n"
   ]
  },
  {
   "cell_type": "code",
   "execution_count": 323,
   "metadata": {},
   "outputs": [
    {
     "data": {
      "text/plain": [
       "0           3.0\n",
       "1          18.0\n",
       "2           5.0\n",
       "3          32.0\n",
       "4          17.0\n",
       "5           3.0\n",
       "6          10.0\n",
       "7           2.0\n",
       "8           4.0\n",
       "9           5.0\n",
       "10          5.0\n",
       "11         24.0\n",
       "12          4.0\n",
       "13          9.0\n",
       "14         15.0\n",
       "15         17.0\n",
       "16         42.0\n",
       "17          4.0\n",
       "18         36.0\n",
       "19          5.0\n",
       "20         19.0\n",
       "21         12.0\n",
       "22         21.0\n",
       "23         26.0\n",
       "24         12.0\n",
       "25          4.0\n",
       "26         22.0\n",
       "27          2.0\n",
       "28          7.0\n",
       "29          6.0\n",
       "           ... \n",
       "8759844     3.0\n",
       "8759845    16.0\n",
       "8759846    12.0\n",
       "8759847    11.0\n",
       "8759848     7.0\n",
       "8759849    13.0\n",
       "8759850     7.0\n",
       "8759851    22.0\n",
       "8759852    28.0\n",
       "8759853    21.0\n",
       "8759854    14.0\n",
       "8759855     4.0\n",
       "8759856    30.0\n",
       "8759857     7.0\n",
       "8759858     3.0\n",
       "8759859    19.0\n",
       "8759860    34.0\n",
       "8759861     1.0\n",
       "8759862     6.0\n",
       "8759863    15.0\n",
       "8759864     8.0\n",
       "8759865     4.0\n",
       "8759866     4.0\n",
       "8759867    10.0\n",
       "8759868    10.0\n",
       "8759869    12.0\n",
       "8759870     3.0\n",
       "8759871     9.0\n",
       "8759872     0.0\n",
       "8759873     0.0\n",
       "Length: 8752256, dtype: float64"
      ]
     },
     "execution_count": 323,
     "metadata": {},
     "output_type": "execute_result"
    }
   ],
   "source": [
    "delta"
   ]
  },
  {
   "cell_type": "code",
   "execution_count": 288,
   "metadata": {
    "scrolled": true
   },
   "outputs": [
    {
     "data": {
      "text/plain": [
       "<matplotlib.axes._subplots.AxesSubplot at 0x229b4aca358>"
      ]
     },
     "execution_count": 288,
     "metadata": {},
     "output_type": "execute_result"
    },
    {
     "data": {
      "image/png": "[encoded data removed]",
      "text/plain": [
       "<Figure size 432x288 with 1 Axes>"
      ]
     },
     "metadata": {},
     "output_type": "display_data"
    }
   ],
   "source": [
    "agg = pd.DataFrame(delta.value_counts(), columns = ['number_of_rides'])\n",
    "agg = agg[agg.index >= 0]\n",
    "\n",
    "\n",
    "distro = agg[agg.index <= 60]\n",
    "distro = distro.sort_index()\n",
    "distro.plot.bar(color = 'g')\n"
   ]
  },
  {
   "cell_type": "code",
   "execution_count": null,
   "metadata": {},
   "outputs": [],
   "source": []
  },
  {
   "cell_type": "code",
   "execution_count": 289,
   "metadata": {},
   "outputs": [
    {
     "data": {
      "text/plain": [
       "0.5314798835865862"
      ]
     },
     "execution_count": 289,
     "metadata": {},
     "output_type": "execute_result"
    },
    {
     "data": {
      "image/png": "[encoded data removed]",
      "text/plain": [
       "<Figure size 432x288 with 1 Axes>"
      ]
     },
     "metadata": {},
     "output_type": "display_data"
    }
   ],
   "source": [
    "less_ten = agg[agg.index <= 10]\n",
    "less_ten = less_ten.sort_index()\n",
    "\n",
    "less_ten.plot.bar()\n",
    "\n",
    "percent1 = (less_ten.cumsum() / delta.size).tail(1).number_of_rides.item()\n",
    "percent1\n"
   ]
  },
  {
   "cell_type": "code",
   "execution_count": 290,
   "metadata": {},
   "outputs": [
    {
     "data": {
      "text/plain": [
       "0.3072788318806031"
      ]
     },
     "execution_count": 290,
     "metadata": {},
     "output_type": "execute_result"
    },
    {
     "data": {
      "image/png": "[encoded data removed]",
      "text/plain": [
       "<Figure size 432x288 with 1 Axes>"
      ]
     },
     "metadata": {},
     "output_type": "display_data"
    }
   ],
   "source": [
    "less_twenty = agg[agg.index <= 20]\n",
    "less_twenty = less_twenty[less_twenty.index > 10]\n",
    "less_twenty = less_twenty.sort_index()\n",
    "\n",
    "less_twenty.plot.bar()\n",
    "\n",
    "percent2 = (less_twenty.cumsum() / delta.size).tail(1).number_of_rides.item()\n",
    "percent2"
   ]
  },
  {
   "cell_type": "code",
   "execution_count": 293,
   "metadata": {},
   "outputs": [
    {
     "data": {
      "text/plain": [
       "0.10100584352194451"
      ]
     },
     "execution_count": 293,
     "metadata": {},
     "output_type": "execute_result"
    },
    {
     "data": {
      "image/png": "[encoded data removed]",
      "text/plain": [
       "<Figure size 432x288 with 1 Axes>"
      ]
     },
     "metadata": {},
     "output_type": "display_data"
    }
   ],
   "source": [
    "more = agg[agg.index > 20]\n",
    "more = more[more.index <= 30]\n",
    "\n",
    "more.plot.bar()\n",
    "\n",
    "more = more.sort_index()\n",
    "percent3 = (more.cumsum() / delta.size).tail(1).number_of_rides.item()\n",
    "percent3"
   ]
  },
  {
   "cell_type": "code",
   "execution_count": 295,
   "metadata": {},
   "outputs": [
    {
     "data": {
      "text/plain": [
       "0.06023521249835471"
      ]
     },
     "execution_count": 295,
     "metadata": {},
     "output_type": "execute_result"
    }
   ],
   "source": [
    "more_hour = agg[agg.index > 30] \n",
    "more_hour = more_hour.sort_index()\n",
    "percent4 = (more_hour.cumsum() / delta.size).tail(1).number_of_rides.item()\n",
    "percent4"
   ]
  },
  {
   "cell_type": "code",
   "execution_count": 298,
   "metadata": {},
   "outputs": [
    {
     "data": {
      "text/plain": [
       "<matplotlib.axes._subplots.AxesSubplot at 0x229b5485d30>"
      ]
     },
     "execution_count": 298,
     "metadata": {},
     "output_type": "execute_result"
    },
    {
     "data": {
      "image/png": "[encoded data removed]",
      "text/plain": [
       "<Figure size 432x288 with 1 Axes>"
      ]
     },
     "metadata": {},
     "output_type": "display_data"
    }
   ],
   "source": [
    "d = {'Time Distribution in the whole NY': [percent1, percent2, percent3, percent4]}\n",
    "df = pd.DataFrame(data=d, index=['<= 10 min', '10 < min <= 20', '20 < min <= 30', 'min > 30'])\n",
    "df['Time Distribution in the whole NY'].plot.pie(autopct='%1.0f%%')"
   ]
  },
  {
   "cell_type": "code",
   "execution_count": 82,
   "metadata": {},
   "outputs": [],
   "source": [
    "#JOIN TABLES\n",
    "data2 = pd.read_csv(\"taxi _zone_lookup.csv\")\n",
    "borough = data.join(data2.set_index('LocationID'), on='PULocationID')"
   ]
  },
  {
   "cell_type": "code",
   "execution_count": 134,
   "metadata": {
    "scrolled": true
   },
   "outputs": [],
   "source": [
    "p1 = {}\n",
    "p2 = {}\n",
    "p3 = {}\n",
    "p4 = {}\n",
    "for i in range(265):\n",
    "    \n",
    "    bor = borough[borough.PULocationID == i+1]\n",
    "    bor = bor[bor.tpep_pickup_datetime != bor.tpep_dropoff_datetime]\n",
    "    pickup_time = pd.to_datetime(bor['tpep_pickup_datetime'].str.strip(), format = FMT)\n",
    "    dropoff_time = pd.to_datetime(bor['tpep_dropoff_datetime'].str.strip(), format = FMT)\n",
    "    delta = (dropoff_time - pickup_time).astype('timedelta64[m]')\n",
    "    \n",
    "    agg = pd.DataFrame(delta.value_counts(), columns = ['y'])\n",
    "    agg = agg[agg.index >= 0]\n",
    "    \n",
    "    less_ten = agg[agg.index <= 10].sort_index()\n",
    "    try:\n",
    "        pr1 = (less_ten.cumsum() / delta.size).tail(1).y.item()\n",
    "    except:\n",
    "        pr1 = 0\n",
    "    p1[str(i)] = pr1 \n",
    "    less_twenty = agg[agg.index <= 20]\n",
    "    less_twenty = less_twenty[less_twenty.index > 10].sort_index()\n",
    "    try:\n",
    "        pr2 = (less_twenty.cumsum() / delta.size).tail(1).y.item()\n",
    "    except:\n",
    "        pr2 = 0\n",
    "    p2[str(i)] = pr2 \n",
    "    more = agg[agg.index > 20]\n",
    "    more = more[more.index <= 30].sort_index()\n",
    "    try :\n",
    "        pr3 = (more.cumsum() / delta.size).tail(1).y.item()\n",
    "    except:\n",
    "        pr3 = 0\n",
    "    p3[str(i)] = pr3 \n",
    "    more_hour = agg[agg.index > 30].sort_index()\n",
    "    try :\n",
    "        pr4 = (more_hour.cumsum() / delta.size).tail(1).y.item()\n",
    "    except:\n",
    "        pr4 = 0\n",
    "    p4[i+1] = pr4\n"
   ]
  },
  {
   "cell_type": "code",
   "execution_count": 257,
   "metadata": {},
   "outputs": [],
   "source": [
    "my1 = pd.DataFrame.from_dict(p1, orient='index', dtype=None, columns=['a'])\n",
    "my2 = pd.DataFrame.from_dict(p2, orient='index', dtype=None, columns=['b'])\n",
    "my3 = pd.DataFrame.from_dict(p3, orient='index', dtype=None, columns=['c'])\n",
    "my4 = pd.DataFrame.from_dict(p4, orient='index', dtype=None, columns=['d'])\n"
   ]
  },
  {
   "cell_type": "code",
   "execution_count": 322,
   "metadata": {
    "scrolled": true
   },
   "outputs": [
    {
     "data": {
      "text/plain": [
       "<matplotlib.axes._subplots.AxesSubplot at 0x229b1aa0dd8>"
      ]
     },
     "execution_count": 322,
     "metadata": {},
     "output_type": "execute_result"
    },
    {
     "data": {
      "image/png": "[encoded data removed]",
      "text/plain": [
       "<Figure size 432x288 with 1 Axes>"
      ]
     },
     "metadata": {},
     "output_type": "display_data"
    },
    {
     "data": {
      "image/png": "[encoded data removed]",
      "text/plain": [
       "<Figure size 432x288 with 1 Axes>"
      ]
     },
     "metadata": {},
     "output_type": "display_data"
    }
   ],
   "source": [
    "result = pd.concat([my1, my2, my3], axis=1)\n",
    "my4 = my4.reset_index(drop=True)\n",
    "result = result.reset_index(drop=True)\n",
    "result = result.join(my4)\n",
    "\n",
    "color = dict(boxes='DarkGreen', whiskers='DarkOrange', medians='DarkBlue', caps='Gray')\n",
    "result.plot.box(color = color, sym='r+')\n",
    "result.plot.area()\n"
   ]
  },
  {
   "cell_type": "code",
   "execution_count": null,
   "metadata": {
    "scrolled": true
   },
   "outputs": [],
   "source": []
  },
  {
   "cell_type": "code",
   "execution_count": 300,
   "metadata": {
    "scrolled": true
   },
   "outputs": [
    {
     "data": {
      "text/html": [
       "<div>\n",
       "<style scoped>\n",
       "    .dataframe tbody tr th:only-of-type {\n",
       "        vertical-align: middle;\n",
       "    }\n",
       "\n",
       "    .dataframe tbody tr th {\n",
       "        vertical-align: top;\n",
       "    }\n",
       "\n",
       "    .dataframe thead th {\n",
       "        text-align: right;\n",
       "    }\n",
       "</style>\n",
       "<table border=\"1\" class=\"dataframe\">\n",
       "  <thead>\n",
       "    <tr style=\"text-align: right;\">\n",
       "      <th></th>\n",
       "      <th>a</th>\n",
       "      <th>b</th>\n",
       "      <th>c</th>\n",
       "      <th>d</th>\n",
       "    </tr>\n",
       "  </thead>\n",
       "  <tbody>\n",
       "    <tr>\n",
       "      <th>0</th>\n",
       "      <td>0.948490</td>\n",
       "      <td>0.007105</td>\n",
       "      <td>0.015986</td>\n",
       "      <td>0.028419</td>\n",
       "    </tr>\n",
       "    <tr>\n",
       "      <th>1</th>\n",
       "      <td>0.250000</td>\n",
       "      <td>0.250000</td>\n",
       "      <td>0.000000</td>\n",
       "      <td>0.500000</td>\n",
       "    </tr>\n",
       "    <tr>\n",
       "      <th>2</th>\n",
       "      <td>0.459459</td>\n",
       "      <td>0.270270</td>\n",
       "      <td>0.189189</td>\n",
       "      <td>0.081081</td>\n",
       "    </tr>\n",
       "    <tr>\n",
       "      <th>3</th>\n",
       "      <td>0.523080</td>\n",
       "      <td>0.352181</td>\n",
       "      <td>0.098580</td>\n",
       "      <td>0.026159</td>\n",
       "    </tr>\n",
       "    <tr>\n",
       "      <th>4</th>\n",
       "      <td>1.000000</td>\n",
       "      <td>0.000000</td>\n",
       "      <td>0.000000</td>\n",
       "      <td>0.000000</td>\n",
       "    </tr>\n",
       "    <tr>\n",
       "      <th>5</th>\n",
       "      <td>0.686275</td>\n",
       "      <td>0.176471</td>\n",
       "      <td>0.078431</td>\n",
       "      <td>0.058824</td>\n",
       "    </tr>\n",
       "    <tr>\n",
       "      <th>6</th>\n",
       "      <td>0.628846</td>\n",
       "      <td>0.248618</td>\n",
       "      <td>0.085420</td>\n",
       "      <td>0.037115</td>\n",
       "    </tr>\n",
       "    <tr>\n",
       "      <th>7</th>\n",
       "      <td>0.422535</td>\n",
       "      <td>0.281690</td>\n",
       "      <td>0.183099</td>\n",
       "      <td>0.112676</td>\n",
       "    </tr>\n",
       "    <tr>\n",
       "      <th>8</th>\n",
       "      <td>0.369565</td>\n",
       "      <td>0.456522</td>\n",
       "      <td>0.108696</td>\n",
       "      <td>0.065217</td>\n",
       "    </tr>\n",
       "    <tr>\n",
       "      <th>9</th>\n",
       "      <td>0.085701</td>\n",
       "      <td>0.050554</td>\n",
       "      <td>0.178623</td>\n",
       "      <td>0.685123</td>\n",
       "    </tr>\n",
       "    <tr>\n",
       "      <th>10</th>\n",
       "      <td>0.476190</td>\n",
       "      <td>0.190476</td>\n",
       "      <td>0.142857</td>\n",
       "      <td>0.190476</td>\n",
       "    </tr>\n",
       "    <tr>\n",
       "      <th>11</th>\n",
       "      <td>0.272262</td>\n",
       "      <td>0.378369</td>\n",
       "      <td>0.246673</td>\n",
       "      <td>0.102695</td>\n",
       "    </tr>\n",
       "    <tr>\n",
       "      <th>12</th>\n",
       "      <td>0.374982</td>\n",
       "      <td>0.400617</td>\n",
       "      <td>0.161088</td>\n",
       "      <td>0.063313</td>\n",
       "    </tr>\n",
       "    <tr>\n",
       "      <th>13</th>\n",
       "      <td>0.465789</td>\n",
       "      <td>0.239474</td>\n",
       "      <td>0.131579</td>\n",
       "      <td>0.163158</td>\n",
       "    </tr>\n",
       "    <tr>\n",
       "      <th>14</th>\n",
       "      <td>0.551724</td>\n",
       "      <td>0.275862</td>\n",
       "      <td>0.068966</td>\n",
       "      <td>0.103448</td>\n",
       "    </tr>\n",
       "    <tr>\n",
       "      <th>15</th>\n",
       "      <td>0.421053</td>\n",
       "      <td>0.228070</td>\n",
       "      <td>0.175439</td>\n",
       "      <td>0.175439</td>\n",
       "    </tr>\n",
       "    <tr>\n",
       "      <th>16</th>\n",
       "      <td>0.610029</td>\n",
       "      <td>0.246018</td>\n",
       "      <td>0.092035</td>\n",
       "      <td>0.051917</td>\n",
       "    </tr>\n",
       "    <tr>\n",
       "      <th>17</th>\n",
       "      <td>0.451923</td>\n",
       "      <td>0.355769</td>\n",
       "      <td>0.067308</td>\n",
       "      <td>0.125000</td>\n",
       "    </tr>\n",
       "    <tr>\n",
       "      <th>18</th>\n",
       "      <td>0.563830</td>\n",
       "      <td>0.255319</td>\n",
       "      <td>0.074468</td>\n",
       "      <td>0.106383</td>\n",
       "    </tr>\n",
       "    <tr>\n",
       "      <th>19</th>\n",
       "      <td>0.620000</td>\n",
       "      <td>0.240000</td>\n",
       "      <td>0.080000</td>\n",
       "      <td>0.060000</td>\n",
       "    </tr>\n",
       "    <tr>\n",
       "      <th>20</th>\n",
       "      <td>0.402985</td>\n",
       "      <td>0.283582</td>\n",
       "      <td>0.179104</td>\n",
       "      <td>0.134328</td>\n",
       "    </tr>\n",
       "    <tr>\n",
       "      <th>21</th>\n",
       "      <td>0.478992</td>\n",
       "      <td>0.235294</td>\n",
       "      <td>0.134454</td>\n",
       "      <td>0.151261</td>\n",
       "    </tr>\n",
       "    <tr>\n",
       "      <th>22</th>\n",
       "      <td>0.285714</td>\n",
       "      <td>0.571429</td>\n",
       "      <td>0.142857</td>\n",
       "      <td>0.000000</td>\n",
       "    </tr>\n",
       "    <tr>\n",
       "      <th>23</th>\n",
       "      <td>0.586234</td>\n",
       "      <td>0.281830</td>\n",
       "      <td>0.093101</td>\n",
       "      <td>0.038835</td>\n",
       "    </tr>\n",
       "    <tr>\n",
       "      <th>24</th>\n",
       "      <td>0.506232</td>\n",
       "      <td>0.326082</td>\n",
       "      <td>0.122060</td>\n",
       "      <td>0.045626</td>\n",
       "    </tr>\n",
       "    <tr>\n",
       "      <th>25</th>\n",
       "      <td>0.484321</td>\n",
       "      <td>0.254355</td>\n",
       "      <td>0.132404</td>\n",
       "      <td>0.128920</td>\n",
       "    </tr>\n",
       "    <tr>\n",
       "      <th>26</th>\n",
       "      <td>0.800000</td>\n",
       "      <td>0.000000</td>\n",
       "      <td>0.200000</td>\n",
       "      <td>0.000000</td>\n",
       "    </tr>\n",
       "    <tr>\n",
       "      <th>27</th>\n",
       "      <td>0.282288</td>\n",
       "      <td>0.162362</td>\n",
       "      <td>0.250923</td>\n",
       "      <td>0.304428</td>\n",
       "    </tr>\n",
       "    <tr>\n",
       "      <th>28</th>\n",
       "      <td>0.477778</td>\n",
       "      <td>0.311111</td>\n",
       "      <td>0.100000</td>\n",
       "      <td>0.111111</td>\n",
       "    </tr>\n",
       "    <tr>\n",
       "      <th>29</th>\n",
       "      <td>0.500000</td>\n",
       "      <td>0.250000</td>\n",
       "      <td>0.250000</td>\n",
       "      <td>0.000000</td>\n",
       "    </tr>\n",
       "    <tr>\n",
       "      <th>...</th>\n",
       "      <td>...</td>\n",
       "      <td>...</td>\n",
       "      <td>...</td>\n",
       "      <td>...</td>\n",
       "    </tr>\n",
       "    <tr>\n",
       "      <th>235</th>\n",
       "      <td>0.630023</td>\n",
       "      <td>0.268072</td>\n",
       "      <td>0.074946</td>\n",
       "      <td>0.026958</td>\n",
       "    </tr>\n",
       "    <tr>\n",
       "      <th>236</th>\n",
       "      <td>0.673148</td>\n",
       "      <td>0.242407</td>\n",
       "      <td>0.063035</td>\n",
       "      <td>0.021411</td>\n",
       "    </tr>\n",
       "    <tr>\n",
       "      <th>237</th>\n",
       "      <td>0.630359</td>\n",
       "      <td>0.266154</td>\n",
       "      <td>0.075070</td>\n",
       "      <td>0.028417</td>\n",
       "    </tr>\n",
       "    <tr>\n",
       "      <th>238</th>\n",
       "      <td>0.635372</td>\n",
       "      <td>0.267763</td>\n",
       "      <td>0.069419</td>\n",
       "      <td>0.027446</td>\n",
       "    </tr>\n",
       "    <tr>\n",
       "      <th>239</th>\n",
       "      <td>0.555556</td>\n",
       "      <td>0.222222</td>\n",
       "      <td>0.166667</td>\n",
       "      <td>0.055556</td>\n",
       "    </tr>\n",
       "    <tr>\n",
       "      <th>240</th>\n",
       "      <td>0.564706</td>\n",
       "      <td>0.317647</td>\n",
       "      <td>0.070588</td>\n",
       "      <td>0.047059</td>\n",
       "    </tr>\n",
       "    <tr>\n",
       "      <th>241</th>\n",
       "      <td>0.449153</td>\n",
       "      <td>0.330508</td>\n",
       "      <td>0.135593</td>\n",
       "      <td>0.084746</td>\n",
       "    </tr>\n",
       "    <tr>\n",
       "      <th>242</th>\n",
       "      <td>0.522771</td>\n",
       "      <td>0.288647</td>\n",
       "      <td>0.105837</td>\n",
       "      <td>0.082745</td>\n",
       "    </tr>\n",
       "    <tr>\n",
       "      <th>243</th>\n",
       "      <td>0.466854</td>\n",
       "      <td>0.334269</td>\n",
       "      <td>0.123232</td>\n",
       "      <td>0.075646</td>\n",
       "    </tr>\n",
       "    <tr>\n",
       "      <th>244</th>\n",
       "      <td>0.600000</td>\n",
       "      <td>0.000000</td>\n",
       "      <td>0.000000</td>\n",
       "      <td>0.400000</td>\n",
       "    </tr>\n",
       "    <tr>\n",
       "      <th>245</th>\n",
       "      <td>0.493329</td>\n",
       "      <td>0.372152</td>\n",
       "      <td>0.098151</td>\n",
       "      <td>0.036367</td>\n",
       "    </tr>\n",
       "    <tr>\n",
       "      <th>246</th>\n",
       "      <td>0.527802</td>\n",
       "      <td>0.306245</td>\n",
       "      <td>0.088109</td>\n",
       "      <td>0.077844</td>\n",
       "    </tr>\n",
       "    <tr>\n",
       "      <th>247</th>\n",
       "      <td>0.538462</td>\n",
       "      <td>0.365385</td>\n",
       "      <td>0.048077</td>\n",
       "      <td>0.048077</td>\n",
       "    </tr>\n",
       "    <tr>\n",
       "      <th>248</th>\n",
       "      <td>0.563512</td>\n",
       "      <td>0.309202</td>\n",
       "      <td>0.097464</td>\n",
       "      <td>0.029822</td>\n",
       "    </tr>\n",
       "    <tr>\n",
       "      <th>249</th>\n",
       "      <td>0.557895</td>\n",
       "      <td>0.305263</td>\n",
       "      <td>0.073684</td>\n",
       "      <td>0.063158</td>\n",
       "    </tr>\n",
       "    <tr>\n",
       "      <th>250</th>\n",
       "      <td>0.857143</td>\n",
       "      <td>0.142857</td>\n",
       "      <td>0.000000</td>\n",
       "      <td>0.000000</td>\n",
       "    </tr>\n",
       "    <tr>\n",
       "      <th>251</th>\n",
       "      <td>0.538462</td>\n",
       "      <td>0.261538</td>\n",
       "      <td>0.076923</td>\n",
       "      <td>0.123077</td>\n",
       "    </tr>\n",
       "    <tr>\n",
       "      <th>252</th>\n",
       "      <td>0.347826</td>\n",
       "      <td>0.130435</td>\n",
       "      <td>0.130435</td>\n",
       "      <td>0.391304</td>\n",
       "    </tr>\n",
       "    <tr>\n",
       "      <th>253</th>\n",
       "      <td>0.378641</td>\n",
       "      <td>0.368932</td>\n",
       "      <td>0.116505</td>\n",
       "      <td>0.135922</td>\n",
       "    </tr>\n",
       "    <tr>\n",
       "      <th>254</th>\n",
       "      <td>0.512402</td>\n",
       "      <td>0.314484</td>\n",
       "      <td>0.127490</td>\n",
       "      <td>0.045624</td>\n",
       "    </tr>\n",
       "    <tr>\n",
       "      <th>255</th>\n",
       "      <td>0.481566</td>\n",
       "      <td>0.351843</td>\n",
       "      <td>0.118403</td>\n",
       "      <td>0.048187</td>\n",
       "    </tr>\n",
       "    <tr>\n",
       "      <th>256</th>\n",
       "      <td>0.447059</td>\n",
       "      <td>0.305882</td>\n",
       "      <td>0.172549</td>\n",
       "      <td>0.074510</td>\n",
       "    </tr>\n",
       "    <tr>\n",
       "      <th>257</th>\n",
       "      <td>0.422680</td>\n",
       "      <td>0.268041</td>\n",
       "      <td>0.206186</td>\n",
       "      <td>0.103093</td>\n",
       "    </tr>\n",
       "    <tr>\n",
       "      <th>258</th>\n",
       "      <td>0.580645</td>\n",
       "      <td>0.241935</td>\n",
       "      <td>0.161290</td>\n",
       "      <td>0.016129</td>\n",
       "    </tr>\n",
       "    <tr>\n",
       "      <th>259</th>\n",
       "      <td>0.530011</td>\n",
       "      <td>0.290864</td>\n",
       "      <td>0.120423</td>\n",
       "      <td>0.058701</td>\n",
       "    </tr>\n",
       "    <tr>\n",
       "      <th>260</th>\n",
       "      <td>0.318053</td>\n",
       "      <td>0.385927</td>\n",
       "      <td>0.207695</td>\n",
       "      <td>0.088325</td>\n",
       "    </tr>\n",
       "    <tr>\n",
       "      <th>261</th>\n",
       "      <td>0.606223</td>\n",
       "      <td>0.299738</td>\n",
       "      <td>0.073220</td>\n",
       "      <td>0.020818</td>\n",
       "    </tr>\n",
       "    <tr>\n",
       "      <th>262</th>\n",
       "      <td>0.650351</td>\n",
       "      <td>0.256536</td>\n",
       "      <td>0.070052</td>\n",
       "      <td>0.023060</td>\n",
       "    </tr>\n",
       "    <tr>\n",
       "      <th>263</th>\n",
       "      <td>0.560847</td>\n",
       "      <td>0.293049</td>\n",
       "      <td>0.094137</td>\n",
       "      <td>0.051967</td>\n",
       "    </tr>\n",
       "    <tr>\n",
       "      <th>264</th>\n",
       "      <td>0.872481</td>\n",
       "      <td>0.068664</td>\n",
       "      <td>0.021474</td>\n",
       "      <td>0.037381</td>\n",
       "    </tr>\n",
       "  </tbody>\n",
       "</table>\n",
       "<p>265 rows × 4 columns</p>\n",
       "</div>"
      ],
      "text/plain": [
       "            a         b         c         d\n",
       "0    0.948490  0.007105  0.015986  0.028419\n",
       "1    0.250000  0.250000  0.000000  0.500000\n",
       "2    0.459459  0.270270  0.189189  0.081081\n",
       "3    0.523080  0.352181  0.098580  0.026159\n",
       "4    1.000000  0.000000  0.000000  0.000000\n",
       "5    0.686275  0.176471  0.078431  0.058824\n",
       "6    0.628846  0.248618  0.085420  0.037115\n",
       "7    0.422535  0.281690  0.183099  0.112676\n",
       "8    0.369565  0.456522  0.108696  0.065217\n",
       "9    0.085701  0.050554  0.178623  0.685123\n",
       "10   0.476190  0.190476  0.142857  0.190476\n",
       "11   0.272262  0.378369  0.246673  0.102695\n",
       "12   0.374982  0.400617  0.161088  0.063313\n",
       "13   0.465789  0.239474  0.131579  0.163158\n",
       "14   0.551724  0.275862  0.068966  0.103448\n",
       "15   0.421053  0.228070  0.175439  0.175439\n",
       "16   0.610029  0.246018  0.092035  0.051917\n",
       "17   0.451923  0.355769  0.067308  0.125000\n",
       "18   0.563830  0.255319  0.074468  0.106383\n",
       "19   0.620000  0.240000  0.080000  0.060000\n",
       "20   0.402985  0.283582  0.179104  0.134328\n",
       "21   0.478992  0.235294  0.134454  0.151261\n",
       "22   0.285714  0.571429  0.142857  0.000000\n",
       "23   0.586234  0.281830  0.093101  0.038835\n",
       "24   0.506232  0.326082  0.122060  0.045626\n",
       "25   0.484321  0.254355  0.132404  0.128920\n",
       "26   0.800000  0.000000  0.200000  0.000000\n",
       "27   0.282288  0.162362  0.250923  0.304428\n",
       "28   0.477778  0.311111  0.100000  0.111111\n",
       "29   0.500000  0.250000  0.250000  0.000000\n",
       "..        ...       ...       ...       ...\n",
       "235  0.630023  0.268072  0.074946  0.026958\n",
       "236  0.673148  0.242407  0.063035  0.021411\n",
       "237  0.630359  0.266154  0.075070  0.028417\n",
       "238  0.635372  0.267763  0.069419  0.027446\n",
       "239  0.555556  0.222222  0.166667  0.055556\n",
       "240  0.564706  0.317647  0.070588  0.047059\n",
       "241  0.449153  0.330508  0.135593  0.084746\n",
       "242  0.522771  0.288647  0.105837  0.082745\n",
       "243  0.466854  0.334269  0.123232  0.075646\n",
       "244  0.600000  0.000000  0.000000  0.400000\n",
       "245  0.493329  0.372152  0.098151  0.036367\n",
       "246  0.527802  0.306245  0.088109  0.077844\n",
       "247  0.538462  0.365385  0.048077  0.048077\n",
       "248  0.563512  0.309202  0.097464  0.029822\n",
       "249  0.557895  0.305263  0.073684  0.063158\n",
       "250  0.857143  0.142857  0.000000  0.000000\n",
       "251  0.538462  0.261538  0.076923  0.123077\n",
       "252  0.347826  0.130435  0.130435  0.391304\n",
       "253  0.378641  0.368932  0.116505  0.135922\n",
       "254  0.512402  0.314484  0.127490  0.045624\n",
       "255  0.481566  0.351843  0.118403  0.048187\n",
       "256  0.447059  0.305882  0.172549  0.074510\n",
       "257  0.422680  0.268041  0.206186  0.103093\n",
       "258  0.580645  0.241935  0.161290  0.016129\n",
       "259  0.530011  0.290864  0.120423  0.058701\n",
       "260  0.318053  0.385927  0.207695  0.088325\n",
       "261  0.606223  0.299738  0.073220  0.020818\n",
       "262  0.650351  0.256536  0.070052  0.023060\n",
       "263  0.560847  0.293049  0.094137  0.051967\n",
       "264  0.872481  0.068664  0.021474  0.037381\n",
       "\n",
       "[265 rows x 4 columns]"
      ]
     },
     "execution_count": 300,
     "metadata": {},
     "output_type": "execute_result"
    }
   ],
   "source": [
    "result"
   ]
  },
  {
   "cell_type": "code",
   "execution_count": null,
   "metadata": {},
   "outputs": [],
   "source": []
  },
  {
   "cell_type": "code",
   "execution_count": null,
   "metadata": {
    "scrolled": true
   },
   "outputs": [],
   "source": []
  },
  {
   "cell_type": "code",
   "execution_count": null,
   "metadata": {
    "scrolled": true
   },
   "outputs": [],
   "source": []
  },
  {
   "cell_type": "code",
   "execution_count": null,
   "metadata": {},
   "outputs": [],
   "source": []
  },
  {
   "cell_type": "code",
   "execution_count": null,
   "metadata": {},
   "outputs": [],
   "source": []
  },
  {
   "cell_type": "code",
   "execution_count": null,
   "metadata": {},
   "outputs": [],
   "source": []
  }
 ],
 "metadata": {
  "kernelspec": {
   "display_name": "Python 3",
   "language": "python",
   "name": "python3"
  },
  "language_info": {
   "codemirror_mode": {
    "name": "ipython",
    "version": 3
   },
   "file_extension": ".py",
   "mimetype": "text/x-python",
   "name": "python",
   "nbconvert_exporter": "python",
   "pygments_lexer": "ipython3",
   "version": "3.6.5"
  }
 },
 "nbformat": 4,
 "nbformat_minor": 2
}
