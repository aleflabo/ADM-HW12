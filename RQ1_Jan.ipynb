{
 "cells": [
  {
   "cell_type": "code",
   "execution_count": 1,
   "metadata": {},
   "outputs": [],
   "source": [
    "import pandas as pd\n",
    "from datetime import datetime as dt"
   ]
  },
  {
   "cell_type": "code",
   "execution_count": 2,
   "metadata": {},
   "outputs": [],
   "source": [
    "data = pd.read_csv(\"/media/sf_Lab/yellow_tripdata_2018-01.csv\", usecols = ['tpep_pickup_datetime', 'PULocationID', 'DOLocationID'])\n",
    "data2 = pd.read_csv(\"/media/sf_Lab/taxi _zone_lookup.csv\")\n",
    "borough = data.join(data2.set_index('LocationID'), on='PULocationID')\n"
   ]
  },
  {
   "cell_type": "code",
   "execution_count": 18,
   "metadata": {
    "scrolled": true
   },
   "outputs": [],
   "source": [
    "borough_trips = borough['Borough'].value_counts() \n",
    "borough_trips = borough_trips.to_frame(name = \"Total Trips\")\n",
    "#count the trips in every borough and convert from series to dataframe \n"
   ]
  },
  {
   "cell_type": "code",
   "execution_count": 4,
   "metadata": {},
   "outputs": [],
   "source": [
    "date_format = '%Y-%m-%d  %H:%M:%S'\n",
    "borough['tpep_pickup_datetime'] = pd.to_datetime(borough['tpep_pickup_datetime'])\n",
    "#convert pickup time to datetime format"
   ]
  },
  {
   "cell_type": "code",
   "execution_count": 10,
   "metadata": {},
   "outputs": [],
   "source": [
    "month_days = borough['tpep_pickup_datetime'].dt.daysinmonth\n",
    "month_days = month_days.to_frame(name = \"Days_of_the_Month\").tail(1).Days_of_the_Month.item()"
   ]
  },
  {
   "cell_type": "code",
   "execution_count": 16,
   "metadata": {
    "scrolled": true
   },
   "outputs": [],
   "source": [
    "borough_trips['Average Trips per Day (Borough)'] = borough_trips[\"Total Trips\"] / month_days\n",
    "#divide borough_count with datetime (get days of a month according to a year from datetime) to get the average trips per day"
   ]
  },
  {
   "cell_type": "code",
   "execution_count": 17,
   "metadata": {},
   "outputs": [
    {
     "data": {
      "text/plain": [
       "<matplotlib.axes._subplots.AxesSubplot at 0x7f4c186060f0>"
      ]
     },
     "execution_count": 17,
     "metadata": {},
     "output_type": "execute_result"
    },
    {
     "data": {
      "image/png": "[encoded data removed]",
      "text/plain": [
       "<Figure size 432x288 with 1 Axes>"
      ]
     },
     "metadata": {
      "needs_background": "light"
     },
     "output_type": "display_data"
    }
   ],
   "source": [
    "borough_trips['Average Trips per Day (Borough)'].plot.bar()"
   ]
  },
  {
   "cell_type": "code",
   "execution_count": null,
   "metadata": {},
   "outputs": [],
   "source": []
  }
 ],
 "metadata": {
  "kernelspec": {
   "display_name": "Python 3",
   "language": "python",
   "name": "python3"
  },
  "language_info": {
   "codemirror_mode": {
    "name": "ipython",
    "version": 3
   },
   "file_extension": ".py",
   "mimetype": "text/x-python",
   "name": "python",
   "nbconvert_exporter": "python",
   "pygments_lexer": "ipython3",
   "version": "3.6.6"
  }
 },
 "nbformat": 4,
 "nbformat_minor": 2
}
