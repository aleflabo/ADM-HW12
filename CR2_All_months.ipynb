{
 "cells": [
  {
   "cell_type": "markdown",
   "metadata": {},
   "source": [
    "__CORE REQUEST 2__"
   ]
  },
  {
   "cell_type": "code",
   "execution_count": 11,
   "metadata": {
    "scrolled": true
   },
   "outputs": [],
   "source": [
    "import pandas as pd\n",
    "from datetime import datetime\n",
    "import time\n",
    "#import matplotlib.pyplot as plt\n",
    "import json\n",
    "import folium\n",
    "from branca.colormap import linear\n",
    "import branca.colormap as cm\n"
   ]
  },
  {
   "cell_type": "code",
   "execution_count": 13,
   "metadata": {},
   "outputs": [],
   "source": [
    "geo_json_data = json.load(open('taxi_zones.json'))\n"
   ]
  },
  {
   "cell_type": "code",
   "execution_count": 14,
   "metadata": {},
   "outputs": [],
   "source": [
    "# retieving data to be cleaned\n",
    "raw_data  = pd.read_csv(\"yellow_tripdata_2018-01.csv\")\n",
    "\n",
    "# cleaning data:\n",
    "# initial time equal final time\n",
    "# distance <= 0\n",
    "# total amount < 0 \n",
    "# year not 2018\n",
    "# month not January (change 1 with the appropiate month)\n",
    "# trip duration > 200 minutes\n",
    "# trip distance > 200 miles\n",
    "\n",
    "raw_data['delta'] = (pd.to_datetime(raw_data['tpep_dropoff_datetime']) -  pd.to_datetime(raw_data['tpep_pickup_datetime'])).astype('timedelta64[m]')\n",
    "data = raw_data.drop(raw_data[(raw_data.delta > 200) | (raw_data.trip_distance <= 0) | (raw_data.trip_distance > 200) | (raw_data.tpep_dropoff_datetime == raw_data.tpep_pickup_datetime) | (raw_data.total_amount < 0) | (pd.DatetimeIndex(raw_data['tpep_pickup_datetime']).month != 1) | (pd.DatetimeIndex(raw_data['tpep_pickup_datetime']).year != 2018)].index) \n",
    "\n",
    "# free memory deleting the raw_data\n",
    "del raw_data\n",
    "\n",
    "data = data.loc[:, ['PULocationID', 'DOLocationID']]\n",
    "\n",
    "data['PULocationID_2'] = data['PULocationID']\n",
    "data_pu = data.set_index('PULocationID')['PULocationID_2']\n",
    "\n",
    "data['DOLocationID_2'] = data['DOLocationID']\n",
    "data_do = data.set_index('DOLocationID')['DOLocationID_2']\n",
    "del data"
   ]
  },
  {
   "cell_type": "code",
   "execution_count": 15,
   "metadata": {},
   "outputs": [],
   "source": [
    "for i in range(2,7):\n",
    "        # retieving data to be cleaned\n",
    "        raw_data  = pd.read_csv(\"yellow_tripdata_2018-0\"+str(i)+\".csv\")\n",
    "\n",
    "        # cleaning data\n",
    "        raw_data['delta'] = (pd.to_datetime(raw_data['tpep_dropoff_datetime']) -  pd.to_datetime(raw_data['tpep_pickup_datetime'])).astype('timedelta64[m]')\n",
    "        data_i = raw_data.drop(raw_data[(raw_data.delta > 200) | (raw_data.trip_distance <= 0) | (raw_data.trip_distance > 200) | (raw_data.tpep_dropoff_datetime == raw_data.tpep_pickup_datetime) | (raw_data.total_amount < 0) | (pd.DatetimeIndex(raw_data['tpep_pickup_datetime']).month != i) | (pd.DatetimeIndex(raw_data['tpep_pickup_datetime']).year != 2018)].index) \n",
    "\n",
    "        # free memory deleting the raw_data\n",
    "        del raw_data\n",
    "        \n",
    "        \n",
    "        data_i = data_i.loc[:, ['PULocationID', 'DOLocationID']]\n",
    "        #data = data.append(data_i)\n",
    "        \n",
    "        data_i['PULocationID_2'] = data_i['PULocationID']\n",
    "        data_pu = data_pu.append(data_i.set_index('PULocationID')['PULocationID_2'])\n",
    "\n",
    "        data_i['DOLocationID_2'] = data_i['DOLocationID']\n",
    "        data_do = data_do.append(data_i.set_index('DOLocationID')['DOLocationID_2'])\n",
    "        del data_i\n",
    "        \n",
    "pu = pd.DataFrame(data_pu.value_counts())\n",
    "pu_dict = pu.set_index(pu.index)['PULocationID_2']\n",
    "do = pd.DataFrame(data_do.value_counts())\n",
    "do_dict = do.set_index(do.index)['DOLocationID_2']\n",
    "\n",
    "del data_pu\n",
    "del data_do"
   ]
  },
  {
   "cell_type": "code",
   "execution_count": 26,
   "metadata": {},
   "outputs": [
    {
     "data": {
      "text/plain": [
       "<bound method Map.render of <folium.folium.Map object at 0x000002457ADD2278>>"
      ]
     },
     "execution_count": 26,
     "metadata": {},
     "output_type": "execute_result"
    }
   ],
   "source": [
    "linear_pu = cm.LinearColormap(\n",
    "    ['green', 'yellow', 'red'],\n",
    "    vmin=pu.tail(1).PULocationID_2.item(), vmax=pu.head(1).PULocationID_2.item(),\n",
    "    caption= 'Taxi pickup zone scale (number of rides)'\n",
    ")\n",
    "\n",
    "\n",
    "\n",
    "def daje_pu(feature):\n",
    "    try:\n",
    "        return pu_dict[feature['properties']['LocationID']]\n",
    "    except:\n",
    "        return 176\n",
    "    \n",
    "m = folium.Map([40.7, -74], tiles='cartodbpositron', zoom_start=10.5)\n",
    "\n",
    "folium.GeoJson(\n",
    "    geo_json_data,\n",
    "    style_function=lambda feature: {\n",
    "        'fillColor': linear_pu(daje_pu(feature)),\n",
    "        'color': 'black',\n",
    "        'dashArray': '5, 5',\n",
    "        'fillOpacity': 0.9,\n",
    "    }\n",
    ").add_to(m)\n",
    "linear_pu.add_to(m)\n",
    "\n",
    "m.save('pickup.html')\n",
    "m.render"
   ]
  },
  {
   "cell_type": "code",
   "execution_count": 25,
   "metadata": {},
   "outputs": [
    {
     "data": {
      "text/plain": [
       "<bound method Map.render of <folium.folium.Map object at 0x000002457ADD2240>>"
      ]
     },
     "execution_count": 25,
     "metadata": {},
     "output_type": "execute_result"
    }
   ],
   "source": [
    "linear_do = cm.LinearColormap(\n",
    "    ['green', 'yellow', 'red'],\n",
    "    vmin=do.tail(1).DOLocationID_2.item(), vmax=do.head(1).DOLocationID_2.item(),\n",
    "    caption= 'Taxi dropoff zone scale (number of rides)'\n",
    ")\n",
    "\n",
    "def daje_do(feature):\n",
    "    try:\n",
    "        return do_dict[feature['properties']['LocationID']]\n",
    "    except:\n",
    "        return 2\n",
    "    \n",
    "n = folium.Map([40.7, -74], tiles='cartodbpositron', zoom_start=10.5)\n",
    "\n",
    "folium.GeoJson(\n",
    "    geo_json_data,\n",
    "    style_function=lambda feature: {\n",
    "        'fillColor': linear_do(daje_do(feature)),\n",
    "        'color': 'black',\n",
    "        'dashArray': '5, 5',\n",
    "        'fillOpacity': 0.9\n",
    "    }\n",
    ").add_to(n)\n",
    "linear_do.add_to(n)\n",
    "\n",
    "\n",
    "n.save('dropoff.html')\n",
    "n.render"
   ]
  },
  {
   "cell_type": "code",
   "execution_count": null,
   "metadata": {},
   "outputs": [],
   "source": []
  }
 ],
 "metadata": {
  "kernelspec": {
   "display_name": "Python 3",
   "language": "python",
   "name": "python3"
  },
  "language_info": {
   "codemirror_mode": {
    "name": "ipython",
    "version": 3
   },
   "file_extension": ".py",
   "mimetype": "text/x-python",
   "name": "python",
   "nbconvert_exporter": "python",
   "pygments_lexer": "ipython3",
   "version": "3.6.6"
  }
 },
 "nbformat": 4,
 "nbformat_minor": 2
}
