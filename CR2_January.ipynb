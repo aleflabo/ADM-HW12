{
 "cells": [
  {
   "cell_type": "markdown",
   "metadata": {},
   "source": [
    "__CORE REQUEST 2__"
   ]
  },
  {
   "cell_type": "code",
   "execution_count": 7,
   "metadata": {},
   "outputs": [],
   "source": [
    "import pandas as pd\n",
    "from datetime import datetime\n",
    "import time\n",
    "import matplotlib.pyplot as plt\n",
    "import json\n",
    "import folium\n",
    "from branca.colormap import linear\n"
   ]
  },
  {
   "cell_type": "code",
   "execution_count": 8,
   "metadata": {},
   "outputs": [],
   "source": [
    "geo_json_data = json.load(open('taxi_zones.json'))"
   ]
  },
  {
   "cell_type": "code",
   "execution_count": 9,
   "metadata": {},
   "outputs": [],
   "source": [
    "# retieving data to be cleaned\n",
    "raw_data  = pd.read_csv(\"yellow_tripdata_2018-01.csv\")\n",
    "\n",
    "# cleaning data:\n",
    "# initial time equal final time\n",
    "# distance <= 0\n",
    "# total amount < 0 \n",
    "# year not 2018\n",
    "# month not January (change 1 with the appropiate month)\n",
    "# trip duration > 200 minutes\n",
    "# trip distance > 200 miles\n",
    "\n",
    "raw_data['delta'] = (pd.to_datetime(raw_data['tpep_dropoff_datetime']) -  pd.to_datetime(raw_data['tpep_pickup_datetime'])).astype('timedelta64[m]')\n",
    "data = raw_data.drop(raw_data[(raw_data.delta > 200) | (raw_data.trip_distance <= 0) | (raw_data.trip_distance > 200) | (raw_data.tpep_dropoff_datetime == raw_data.tpep_pickup_datetime) | (raw_data.total_amount < 0) | (pd.DatetimeIndex(raw_data['tpep_pickup_datetime']).month != 1) | (pd.DatetimeIndex(raw_data['tpep_pickup_datetime']).year != 2018)].index) \n",
    "\n",
    "# free memory deleting the raw_data\n",
    "del raw_data"
   ]
  },
  {
   "cell_type": "code",
   "execution_count": 51,
   "metadata": {
    "scrolled": true
   },
   "outputs": [],
   "source": [
    "data['PULocationID_2'] = data['PULocationID']\n",
    "\n",
    "data_pu = data.set_index('PULocationID')['PULocationID_2']\n",
    "\n",
    "colormap = linear.OrRd_09.scale(\n",
    "    data_pu.value_counts().tail(1).item(),\n",
    "    data_pu.value_counts().head(1).item())\n",
    "\n",
    "pu = pd.DataFrame(data_pu.value_counts())\n",
    "pu_dict = pu.set_index(pu.index)['PULocationID_2']\n",
    "\n",
    "def daje_pu(feature):\n",
    "    try:\n",
    "        return pu_dict[feature['properties']['LocationID']]\n",
    "    except:\n",
    "        return 176\n",
    "    \n",
    "m = folium.Map([40.7, -74], tiles='cartodbpositron', zoom_start=10.5)\n",
    "\n",
    "folium.GeoJson(\n",
    "    geo_json_data,\n",
    "    style_function=lambda feature: {\n",
    "        'fillColor': colormap(daje_pu(feature)),\n",
    "        'color': 'black',\n",
    "        'dashArray': '5, 5',\n",
    "        'fillOpacity': 0.9,\n",
    "    }\n",
    ").add_to(m)\n",
    "m.save('pickup.html')"
   ]
  },
  {
   "cell_type": "code",
   "execution_count": 50,
   "metadata": {},
   "outputs": [],
   "source": [
    "data['DOLocationID_2'] = data['DOLocationID']\n",
    "data_do = data.set_index('DOLocationID')['DOLocationID_2']\n",
    "\n",
    "colormap_do = linear.OrRd_09.scale(\n",
    "    data_do.value_counts().tail(1).item(),\n",
    "    data_do.value_counts().head(1).item())\n",
    "\n",
    "do = pd.DataFrame(data_do.value_counts())\n",
    "do_dict = do.set_index(do.index)['DOLocationID_2']\n",
    "\n",
    "def daje_do(feature):\n",
    "    try:\n",
    "        return do_dict[feature['properties']['LocationID']]\n",
    "    except:\n",
    "        return 2\n",
    "    \n",
    "n = folium.Map([40.7, -74], tiles='cartodbpositron', zoom_start=10.5)\n",
    "\n",
    "folium.GeoJson(\n",
    "    geo_json_data,\n",
    "    style_function=lambda feature: {\n",
    "        'fillColor': colormap_do(daje_do(feature)),\n",
    "        'color': 'black',\n",
    "        'dashArray': '5, 5',\n",
    "        'fillOpacity': 0.9,\n",
    "    }\n",
    ").add_to(n)\n",
    "n.save('dropoff.html')\n"
   ]
  }
 ],
 "metadata": {
  "kernelspec": {
   "display_name": "Python 3",
   "language": "python",
   "name": "python3"
  },
  "language_info": {
   "codemirror_mode": {
    "name": "ipython",
    "version": 3
   },
   "file_extension": ".py",
   "mimetype": "text/x-python",
   "name": "python",
   "nbconvert_exporter": "python",
   "pygments_lexer": "ipython3",
   "version": "3.6.5"
  }
 },
 "nbformat": 4,
 "nbformat_minor": 2
}
