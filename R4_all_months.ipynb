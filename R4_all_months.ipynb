{
 "cells": [
  {
   "cell_type": "code",
   "execution_count": 1,
   "metadata": {},
   "outputs": [],
   "source": [
    "import pandas as pd\n",
    "import matplotlib.pyplot as plt"
   ]
  },
  {
   "cell_type": "code",
   "execution_count": 2,
   "metadata": {},
   "outputs": [],
   "source": [
    "# global variables\n",
    "\n",
    "data2 = pd.read_csv(\"taxi _zone_lookup.csv\")\n",
    "b = ['Manhattan', 'Queens', 'EWR', 'Bronx', 'Staten Island', 'Brooklyn', 'Unknown']\n",
    "p1 = {}\n",
    "p2 = {}\n",
    "p3 = {}\n",
    "p4 = {}\n",
    "p5 = {}\n",
    "p6 = {}\n",
    "p1_chi = {}\n",
    "p2_chi = {}\n",
    "p3_chi = {}\n",
    "p4_chi = {}\n",
    "p5_chi = {}\n",
    "p6_chi = {}"
   ]
  },
  {
   "cell_type": "code",
   "execution_count": 3,
   "metadata": {},
   "outputs": [],
   "source": [
    "#WHOLE NY - JANUARY\n",
    "# retieving data to be cleaned\n",
    "raw_data  = pd.read_csv(\"yellow_tripdata_2018-01.csv\")\n",
    "\n",
    "# cleaning data\n",
    "raw_data['delta'] = (pd.to_datetime(raw_data['tpep_dropoff_datetime']) -  pd.to_datetime(raw_data['tpep_pickup_datetime'])).astype('timedelta64[m]')\n",
    "data = raw_data.drop(raw_data[(raw_data.delta > 200) | (raw_data.trip_distance <= 0) | (raw_data.trip_distance > 200) | (raw_data.tpep_dropoff_datetime == raw_data.tpep_pickup_datetime) | (raw_data.total_amount < 0) | (pd.DatetimeIndex(raw_data['tpep_pickup_datetime']).month != 1) | (pd.DatetimeIndex(raw_data['tpep_pickup_datetime']).year != 2018)].index) \n",
    "\n",
    "# free memory deleting the raw_data\n",
    "del raw_data\n",
    "\n",
    "# taking only the columns that I need\n",
    "data = data.loc[:, ['payment_type', 'PULocationID', 'trip_distance']]\n",
    "\n",
    "#counting transactions per payment type\n",
    "ex = data.groupby('payment_type').count()\n"
   ]
  },
  {
   "cell_type": "code",
   "execution_count": 4,
   "metadata": {},
   "outputs": [],
   "source": [
    "borough = data.join(data2.set_index('LocationID'), on='PULocationID')\n",
    "\n",
    "del data\n",
    "\n",
    "for i in b:\n",
    "    bor = borough[borough.Borough == i]\n",
    "    \n",
    "    #find probabilities for each borough in January\n",
    "    p1[i] = bor[bor.payment_type == 1].payment_type.count() / bor.index.size\n",
    "    p2[i] = bor[bor.payment_type == 2].payment_type.count() / bor.index.size\n",
    "    p3[i] = bor[bor.payment_type == 3].payment_type.count() / bor.index.size\n",
    "    p4[i] = bor[bor.payment_type == 4].payment_type.count() / bor.index.size\n",
    "    p5[i] = bor[bor.payment_type == 5].payment_type.count() / bor.index.size\n",
    "    p6[i] = bor[bor.payment_type == 6].payment_type.count() / bor.index.size\n",
    "    \n",
    "    #counting payment type for rides for CHI analysis, each Borough in January\n",
    "    p1_chi[i] = (bor[bor.payment_type == 1].payment_type.count())\n",
    "    p2_chi[i] = (bor[bor.payment_type == 2].payment_type.count())\n",
    "    p3_chi[i] = (bor[bor.payment_type == 3].payment_type.count())\n",
    "    p4_chi[i] = (bor[bor.payment_type == 4].payment_type.count())\n",
    "    p5_chi[i] = (bor[bor.payment_type == 5].payment_type.count())\n",
    "    p6_chi[i] = (bor[bor.payment_type == 6].payment_type.count())"
   ]
  },
  {
   "cell_type": "code",
   "execution_count": 5,
   "metadata": {},
   "outputs": [
    {
     "name": "stdout",
     "output_type": "stream",
     "text": [
      "2\n",
      "3\n",
      "4\n",
      "5\n",
      "6\n"
     ]
    }
   ],
   "source": [
    "for i in range(2,7):\n",
    "        # retieving data to be cleaned\n",
    "        raw_data  = pd.read_csv(\"yellow_tripdata_2018-0\"+str(i)+\".csv\")\n",
    "\n",
    "        # cleaning data\n",
    "        raw_data['delta'] = (pd.to_datetime(raw_data['tpep_dropoff_datetime']) -  pd.to_datetime(raw_data['tpep_pickup_datetime'])).astype('timedelta64[m]')\n",
    "        data = raw_data.drop(raw_data[(raw_data.delta > 200) | (raw_data.trip_distance <= 0) | (raw_data.trip_distance > 200) | (raw_data.tpep_dropoff_datetime == raw_data.tpep_pickup_datetime) | (raw_data.total_amount < 0) | (pd.DatetimeIndex(raw_data['tpep_pickup_datetime']).month != i) | (pd.DatetimeIndex(raw_data['tpep_pickup_datetime']).year != 2018)].index) \n",
    "\n",
    "        # free memory deleting the raw_data\n",
    "        del raw_data\n",
    "        \n",
    "        \n",
    "        data = data.loc[:, ['payment_type', 'PULocationID', 'trip_distance']]\n",
    "        \n",
    "        #counting frequecncies for each payment type in the whole NY\n",
    "        ex['trip_distance'] = ex['trip_distance'] + (data.groupby('payment_type').count())['trip_distance']\n",
    "        \n",
    "        borough = data.join(data2.set_index('LocationID'), on='PULocationID')\n",
    "\n",
    "        del data\n",
    "        \n",
    "        for i in b:\n",
    "            bor = borough[borough.Borough == i]\n",
    "            \n",
    "            #find probabilities for each borough (for Borough analysis)\n",
    "            p1[i] = (p1[i] + (bor[bor.payment_type == 1].payment_type.count() / bor.index.size)) / 2\n",
    "            p2[i] = (p2[i] + (bor[bor.payment_type == 2].payment_type.count() / bor.index.size)) / 2\n",
    "            p3[i] = (p3[i] + (bor[bor.payment_type == 3].payment_type.count() / bor.index.size)) / 2\n",
    "            p4[i] = (p4[i] + (bor[bor.payment_type == 4].payment_type.count() / bor.index.size)) / 2\n",
    "            p5[i] = (p5[i] + (bor[bor.payment_type == 5].payment_type.count() / bor.index.size)) / 2\n",
    "            p6[i] = (p6[i] + (bor[bor.payment_type == 6].payment_type.count() / bor.index.size)) / 2\n",
    "              \n",
    "            #counting frequencies of payment types in each Borough (for CHI analysis)\n",
    "            p1_chi[i] = p1_chi[i] + (bor[bor.payment_type == 1].payment_type.count())\n",
    "            p2_chi[i] = p2_chi[i] + (bor[bor.payment_type == 2].payment_type.count())\n",
    "            p3_chi[i] = p3_chi[i] + (bor[bor.payment_type == 3].payment_type.count())\n",
    "            p4_chi[i] = p4_chi[i] + (bor[bor.payment_type == 4].payment_type.count())\n",
    "            p5_chi[i] = p5_chi[i] + (bor[bor.payment_type == 5].payment_type.count())\n",
    "            p6_chi[i] = p6_chi[i] + (bor[bor.payment_type == 6].payment_type.count())\n",
    "                         "
   ]
  },
  {
   "cell_type": "markdown",
   "metadata": {},
   "source": [
    "__NY ANALYSIS__"
   ]
  },
  {
   "cell_type": "code",
   "execution_count": 6,
   "metadata": {},
   "outputs": [
    {
     "data": {
      "text/html": [
       "<div>\n",
       "<style scoped>\n",
       "    .dataframe tbody tr th:only-of-type {\n",
       "        vertical-align: middle;\n",
       "    }\n",
       "\n",
       "    .dataframe tbody tr th {\n",
       "        vertical-align: top;\n",
       "    }\n",
       "\n",
       "    .dataframe thead th {\n",
       "        text-align: right;\n",
       "    }\n",
       "</style>\n",
       "<table border=\"1\" class=\"dataframe\">\n",
       "  <thead>\n",
       "    <tr style=\"text-align: right;\">\n",
       "      <th></th>\n",
       "      <th>transactions</th>\n",
       "    </tr>\n",
       "    <tr>\n",
       "      <th>payment_type</th>\n",
       "      <th></th>\n",
       "    </tr>\n",
       "  </thead>\n",
       "  <tbody>\n",
       "    <tr>\n",
       "      <th>Credit_card</th>\n",
       "      <td>37420067</td>\n",
       "    </tr>\n",
       "    <tr>\n",
       "      <th>Cash</th>\n",
       "      <td>15844318</td>\n",
       "    </tr>\n",
       "    <tr>\n",
       "      <th>No_charge</th>\n",
       "      <td>224375</td>\n",
       "    </tr>\n",
       "    <tr>\n",
       "      <th>Dispute</th>\n",
       "      <td>61944</td>\n",
       "    </tr>\n",
       "  </tbody>\n",
       "</table>\n",
       "</div>"
      ],
      "text/plain": [
       "              transactions\n",
       "payment_type              \n",
       "Credit_card       37420067\n",
       "Cash              15844318\n",
       "No_charge           224375\n",
       "Dispute              61944"
      ]
     },
     "execution_count": 6,
     "metadata": {},
     "output_type": "execute_result"
    }
   ],
   "source": [
    "ex = ex.rename(index={1: 'Credit_card', 2: 'Cash', 3: 'No_charge', 4:'Dispute'}, columns = {'trip_distance' : 'transactions'}).loc[:, ['transactions']]\n",
    "ex"
   ]
  },
  {
   "cell_type": "code",
   "execution_count": 7,
   "metadata": {},
   "outputs": [
    {
     "data": {
      "text/plain": [
       "<matplotlib.axes._subplots.AxesSubplot at 0x1d4991a3208>"
      ]
     },
     "execution_count": 7,
     "metadata": {},
     "output_type": "execute_result"
    },
    {
     "data": {
      "image/png": "[encoded data removed]",
      "text/plain": [
       "<Figure size 432x288 with 1 Axes>"
      ]
     },
     "metadata": {},
     "output_type": "display_data"
    }
   ],
   "source": [
    "ex.plot.bar(color= ('brown', 'g', 'black', 'y'))"
   ]
  },
  {
   "cell_type": "code",
   "execution_count": 8,
   "metadata": {},
   "outputs": [
    {
     "data": {
      "text/plain": [
       "<matplotlib.axes._subplots.AxesSubplot at 0x1d4991a85c0>"
      ]
     },
     "execution_count": 8,
     "metadata": {},
     "output_type": "execute_result"
    },
    {
     "data": {
      "image/png": "[encoded data removed]",
      "text/plain": [
       "<Figure size 504x504 with 1 Axes>"
      ]
     },
     "metadata": {},
     "output_type": "display_data"
    }
   ],
   "source": [
    "plt.figure(figsize=(7,7))\n",
    "explode = (0.03, 0.03, 0.03, 0.03) \n",
    "#ax1 = plt.subplot(121, aspect='equal')\n",
    "ex['transactions'].plot.pie(autopct='%1.1f%%', explode = explode, startangle=90, shadow=True, legend = False, fontsize=10)\n"
   ]
  },
  {
   "cell_type": "markdown",
   "metadata": {},
   "source": [
    "__BOROUGH ANALYSIS__"
   ]
  },
  {
   "cell_type": "code",
   "execution_count": 9,
   "metadata": {},
   "outputs": [
    {
     "data": {
      "text/html": [
       "<div>\n",
       "<style scoped>\n",
       "    .dataframe tbody tr th:only-of-type {\n",
       "        vertical-align: middle;\n",
       "    }\n",
       "\n",
       "    .dataframe tbody tr th {\n",
       "        vertical-align: top;\n",
       "    }\n",
       "\n",
       "    .dataframe thead th {\n",
       "        text-align: right;\n",
       "    }\n",
       "</style>\n",
       "<table border=\"1\" class=\"dataframe\">\n",
       "  <thead>\n",
       "    <tr style=\"text-align: right;\">\n",
       "      <th></th>\n",
       "      <th>Credit_card</th>\n",
       "      <th>Cash</th>\n",
       "      <th>No_charge</th>\n",
       "      <th>Dispute</th>\n",
       "      <th>Unknown</th>\n",
       "      <th>Voided trip</th>\n",
       "    </tr>\n",
       "  </thead>\n",
       "  <tbody>\n",
       "    <tr>\n",
       "      <th>Manhattan</th>\n",
       "      <td>0.697922</td>\n",
       "      <td>0.297067</td>\n",
       "      <td>0.003886</td>\n",
       "      <td>0.001125</td>\n",
       "      <td>0.0</td>\n",
       "      <td>0.0</td>\n",
       "    </tr>\n",
       "    <tr>\n",
       "      <th>Queens</th>\n",
       "      <td>0.692416</td>\n",
       "      <td>0.297990</td>\n",
       "      <td>0.007537</td>\n",
       "      <td>0.002058</td>\n",
       "      <td>0.0</td>\n",
       "      <td>0.0</td>\n",
       "    </tr>\n",
       "    <tr>\n",
       "      <th>EWR</th>\n",
       "      <td>0.769363</td>\n",
       "      <td>0.165049</td>\n",
       "      <td>0.056867</td>\n",
       "      <td>0.008721</td>\n",
       "      <td>0.0</td>\n",
       "      <td>0.0</td>\n",
       "    </tr>\n",
       "    <tr>\n",
       "      <th>Bronx</th>\n",
       "      <td>0.562484</td>\n",
       "      <td>0.421057</td>\n",
       "      <td>0.013093</td>\n",
       "      <td>0.003366</td>\n",
       "      <td>0.0</td>\n",
       "      <td>0.0</td>\n",
       "    </tr>\n",
       "    <tr>\n",
       "      <th>Staten Island</th>\n",
       "      <td>0.556811</td>\n",
       "      <td>0.387296</td>\n",
       "      <td>0.046982</td>\n",
       "      <td>0.008911</td>\n",
       "      <td>0.0</td>\n",
       "      <td>0.0</td>\n",
       "    </tr>\n",
       "    <tr>\n",
       "      <th>Brooklyn</th>\n",
       "      <td>0.656145</td>\n",
       "      <td>0.333015</td>\n",
       "      <td>0.008747</td>\n",
       "      <td>0.002093</td>\n",
       "      <td>0.0</td>\n",
       "      <td>0.0</td>\n",
       "    </tr>\n",
       "    <tr>\n",
       "      <th>Unknown</th>\n",
       "      <td>0.690898</td>\n",
       "      <td>0.297848</td>\n",
       "      <td>0.009663</td>\n",
       "      <td>0.001590</td>\n",
       "      <td>0.0</td>\n",
       "      <td>0.0</td>\n",
       "    </tr>\n",
       "  </tbody>\n",
       "</table>\n",
       "</div>"
      ],
      "text/plain": [
       "               Credit_card      Cash  No_charge   Dispute  Unknown  \\\n",
       "Manhattan         0.697922  0.297067   0.003886  0.001125      0.0   \n",
       "Queens            0.692416  0.297990   0.007537  0.002058      0.0   \n",
       "EWR               0.769363  0.165049   0.056867  0.008721      0.0   \n",
       "Bronx             0.562484  0.421057   0.013093  0.003366      0.0   \n",
       "Staten Island     0.556811  0.387296   0.046982  0.008911      0.0   \n",
       "Brooklyn          0.656145  0.333015   0.008747  0.002093      0.0   \n",
       "Unknown           0.690898  0.297848   0.009663  0.001590      0.0   \n",
       "\n",
       "               Voided trip  \n",
       "Manhattan              0.0  \n",
       "Queens                 0.0  \n",
       "EWR                    0.0  \n",
       "Bronx                  0.0  \n",
       "Staten Island          0.0  \n",
       "Brooklyn               0.0  \n",
       "Unknown                0.0  "
      ]
     },
     "execution_count": 9,
     "metadata": {},
     "output_type": "execute_result"
    }
   ],
   "source": [
    "#converting dictionaries to Dataframes\n",
    "\n",
    "my1 = pd.DataFrame.from_dict(p1, orient='index', dtype=None, columns=['Credit_card'])\n",
    "my2 = pd.DataFrame.from_dict(p2, orient='index', dtype=None, columns=['Cash'])\n",
    "my3 = pd.DataFrame.from_dict(p3, orient='index', dtype=None, columns=['No_charge'])\n",
    "my4 = pd.DataFrame.from_dict(p4, orient='index', dtype=None, columns=['Dispute'])\n",
    "my5 = pd.DataFrame.from_dict(p5, orient='index', dtype=None, columns=['Unknown'])\n",
    "my6 = pd.DataFrame.from_dict(p6, orient='index', dtype=None, columns=['Voided trip'])\n",
    "\n",
    "#Merging the Dataframes\n",
    "result = pd.concat([my1, my2, my3], axis=1)\n",
    "my4 = my4.reset_index(drop=True)\n",
    "result = result.reset_index(drop=True)\n",
    "result = result.join(my4)\n",
    "my5 = my5.reset_index(drop=True)\n",
    "result = result.reset_index(drop=True)\n",
    "result = result.join(my5)\n",
    "my6 = my6.reset_index(drop=True)\n",
    "result = result.reset_index(drop=True)\n",
    "result = result.join(my6)\n",
    "result = result.rename(index={0: 'Manhattan', 1: 'Queens', 2: 'EWR', 3:'Bronx', 4: 'Staten Island', 5:'Brooklyn', 6:'Unknown'})\n",
    "result"
   ]
  },
  {
   "cell_type": "code",
   "execution_count": 10,
   "metadata": {},
   "outputs": [
    {
     "data": {
      "text/plain": [
       "<matplotlib.axes._subplots.AxesSubplot at 0x1d4e343fda0>"
      ]
     },
     "execution_count": 10,
     "metadata": {},
     "output_type": "execute_result"
    },
    {
     "data": {
      "image/png": "[encoded data removed]",
      "text/plain": [
       "<Figure size 432x288 with 1 Axes>"
      ]
     },
     "metadata": {},
     "output_type": "display_data"
    }
   ],
   "source": [
    "result.plot.bar(y = ['Credit_card', 'Cash','No_charge', 'Dispute'])"
   ]
  },
  {
   "cell_type": "code",
   "execution_count": 11,
   "metadata": {},
   "outputs": [
    {
     "data": {
      "text/plain": [
       "<matplotlib.axes._subplots.AxesSubplot at 0x1d4986da518>"
      ]
     },
     "execution_count": 11,
     "metadata": {},
     "output_type": "execute_result"
    },
    {
     "data": {
      "image/png": "[encoded data removed]",
      "text/plain": [
       "<Figure size 432x288 with 1 Axes>"
      ]
     },
     "metadata": {},
     "output_type": "display_data"
    }
   ],
   "source": [
    "color = dict(boxes='DarkGreen', whiskers='DarkOrange', medians='DarkBlue', caps='Gray')\n",
    "result.plot.box(y = ['Credit_card', 'Cash','No_charge', 'Dispute'], color = color, sym='r+')"
   ]
  },
  {
   "cell_type": "code",
   "execution_count": 12,
   "metadata": {
    "scrolled": true
   },
   "outputs": [
    {
     "data": {
      "text/plain": [
       "<matplotlib.axes._subplots.AxesSubplot at 0x1d4fb1b67f0>"
      ]
     },
     "execution_count": 12,
     "metadata": {},
     "output_type": "execute_result"
    },
    {
     "data": {
      "image/png": "[encoded data removed]",
      "text/plain": [
       "<Figure size 432x288 with 1 Axes>"
      ]
     },
     "metadata": {},
     "output_type": "display_data"
    }
   ],
   "source": [
    "result.plot.area(y = ['Credit_card', 'Cash','No_charge', 'Dispute'])"
   ]
  },
  {
   "cell_type": "code",
   "execution_count": null,
   "metadata": {},
   "outputs": [],
   "source": []
  },
  {
   "cell_type": "markdown",
   "metadata": {},
   "source": [
    "__CHI SQUARED ANALYSIS__"
   ]
  },
  {
   "cell_type": "code",
   "execution_count": 13,
   "metadata": {},
   "outputs": [],
   "source": [
    "#Converting dictionaries to Dataframes\n",
    "my1 = pd.DataFrame.from_dict(p1_chi, orient='index', dtype=None, columns=['Credit_card'])\n",
    "my2 = pd.DataFrame.from_dict(p2_chi, orient='index', dtype=None, columns=['Cash'])\n",
    "my3 = pd.DataFrame.from_dict(p3_chi, orient='index', dtype=None, columns=['No_charge'])\n",
    "my4 = pd.DataFrame.from_dict(p4_chi, orient='index', dtype=None, columns=['Dispute'])\n",
    "my5 = pd.DataFrame.from_dict(p5_chi, orient='index', dtype=None, columns=['Unknown'])\n",
    "my6 = pd.DataFrame.from_dict(p6_chi, orient='index', dtype=None, columns=['Voided trip'])\n",
    "\n",
    "#Merging the Dataframes in a single one\n",
    "result = pd.concat([my1, my2, my3], axis=1)\n",
    "my4 = my4.reset_index(drop=True)\n",
    "result = result.reset_index(drop=True)\n",
    "result = result.join(my4)\n",
    "my5 = my5.reset_index(drop=True)\n",
    "result = result.reset_index(drop=True)\n",
    "result = result.join(my5)\n",
    "my6 = my6.reset_index(drop=True)\n",
    "result = result.reset_index(drop=True)\n",
    "result = result.join(my6)\n",
    "result = result.rename(index={0: 'Manhattan', 1: 'Queens', 2: 'EWR', 3:'Bronx', 4: 'Staten Island', 5:'Brooklyn', 6:'Unknown'})\n"
   ]
  },
  {
   "cell_type": "code",
   "execution_count": 14,
   "metadata": {
    "scrolled": false
   },
   "outputs": [
    {
     "data": {
      "text/html": [
       "<div>\n",
       "<style scoped>\n",
       "    .dataframe tbody tr th:only-of-type {\n",
       "        vertical-align: middle;\n",
       "    }\n",
       "\n",
       "    .dataframe tbody tr th {\n",
       "        vertical-align: top;\n",
       "    }\n",
       "\n",
       "    .dataframe thead th {\n",
       "        text-align: right;\n",
       "    }\n",
       "</style>\n",
       "<table border=\"1\" class=\"dataframe\">\n",
       "  <thead>\n",
       "    <tr style=\"text-align: right;\">\n",
       "      <th></th>\n",
       "      <th>Credit_card</th>\n",
       "      <th>Cash</th>\n",
       "    </tr>\n",
       "  </thead>\n",
       "  <tbody>\n",
       "    <tr>\n",
       "      <th>Manhattan</th>\n",
       "      <td>34114938</td>\n",
       "      <td>14394194</td>\n",
       "    </tr>\n",
       "    <tr>\n",
       "      <th>Queens</th>\n",
       "      <td>2285527</td>\n",
       "      <td>960691</td>\n",
       "    </tr>\n",
       "    <tr>\n",
       "      <th>EWR</th>\n",
       "      <td>863</td>\n",
       "      <td>199</td>\n",
       "    </tr>\n",
       "    <tr>\n",
       "      <th>Bronx</th>\n",
       "      <td>26786</td>\n",
       "      <td>24212</td>\n",
       "    </tr>\n",
       "    <tr>\n",
       "      <th>Staten Island</th>\n",
       "      <td>321</td>\n",
       "      <td>279</td>\n",
       "    </tr>\n",
       "    <tr>\n",
       "      <th>Brooklyn</th>\n",
       "      <td>437319</td>\n",
       "      <td>226157</td>\n",
       "    </tr>\n",
       "    <tr>\n",
       "      <th>Unknown</th>\n",
       "      <td>554313</td>\n",
       "      <td>238586</td>\n",
       "    </tr>\n",
       "  </tbody>\n",
       "</table>\n",
       "</div>"
      ],
      "text/plain": [
       "               Credit_card      Cash\n",
       "Manhattan         34114938  14394194\n",
       "Queens             2285527    960691\n",
       "EWR                    863       199\n",
       "Bronx                26786     24212\n",
       "Staten Island          321       279\n",
       "Brooklyn            437319    226157\n",
       "Unknown             554313    238586"
      ]
     },
     "execution_count": 14,
     "metadata": {},
     "output_type": "execute_result"
    }
   ],
   "source": [
    "#taking only the two main payment types\n",
    "chi = result.loc[:, ['Credit_card', 'Cash']]\n",
    "chi"
   ]
  },
  {
   "cell_type": "code",
   "execution_count": 15,
   "metadata": {},
   "outputs": [],
   "source": [
    "#variables to find the Chi Squared value\n",
    "chi_cc = chi.Credit_card.sum()   #total of val in Credit_card \n",
    "chi_ca = chi.Cash.sum()          #total of val in Cash \n",
    "chi_total = chi_cc + chi_ca      #total values in data\n",
    "chi_rows = chi.sum(axis=1)       #total of val in each rows"
   ]
  },
  {
   "cell_type": "code",
   "execution_count": 16,
   "metadata": {},
   "outputs": [
    {
     "data": {
      "text/plain": [
       "13999.567938871589"
      ]
     },
     "execution_count": 16,
     "metadata": {},
     "output_type": "execute_result"
    }
   ],
   "source": [
    "#INITIAL HYPOTESIS\n",
    "# H_0 = 'The Boroughs and payment type are not correlated'\n",
    "# H_1 = 'The Boroughs and payment type are correlated'\n",
    "\n",
    "chi_value = 0\n",
    "for i in range(7):\n",
    "    expected_freq = (chi_rows[i] * chi_cc) / chi_total\n",
    "    chi_value = chi_value + (expected_freq - chi.Credit_card[i])**2 / expected_freq   \n",
    "    expected_freq = (chi_rows[i] * chi_ca) / chi_total\n",
    "    chi_value = chi_value + (expected_freq - chi.Cash[i])**2 / expected_freq\n",
    "\n",
    "chi_value"
   ]
  },
  {
   "cell_type": "markdown",
   "metadata": {},
   "source": [
    "P(chi > 13999.567938871589) = 0.00000   -> the initial assumption H_0 is rejected. \n",
    "Boroughs and payment types are strongly correlated."
   ]
  },
  {
   "cell_type": "code",
   "execution_count": null,
   "metadata": {},
   "outputs": [],
   "source": []
  },
  {
   "cell_type": "code",
   "execution_count": null,
   "metadata": {},
   "outputs": [],
   "source": []
  },
  {
   "cell_type": "code",
   "execution_count": null,
   "metadata": {},
   "outputs": [],
   "source": []
  }
 ],
 "metadata": {
  "kernelspec": {
   "display_name": "Python 3",
   "language": "python",
   "name": "python3"
  },
  "language_info": {
   "codemirror_mode": {
    "name": "ipython",
    "version": 3
   },
   "file_extension": ".py",
   "mimetype": "text/x-python",
   "name": "python",
   "nbconvert_exporter": "python",
   "pygments_lexer": "ipython3",
   "version": "3.6.5"
  }
 },
 "nbformat": 4,
 "nbformat_minor": 2
}
