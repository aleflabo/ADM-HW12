{
 "cells": [
  {
   "cell_type": "code",
   "execution_count": 2,
   "metadata": {},
   "outputs": [
    {
     "name": "stdout",
     "output_type": "stream",
     "text": [
      "    hour  counts\n",
      "0      0  259295\n",
      "1      1  188642\n",
      "2      2  142075\n",
      "3      3  102590\n",
      "4      4   79351\n",
      "5      5   86213\n",
      "6      6  196989\n",
      "7      7  335646\n",
      "8      8  418285\n",
      "9      9  420037\n",
      "10    10  405822\n",
      "11    11  418558\n",
      "12    12  447073\n",
      "13    13  449495\n",
      "14    14  479230\n",
      "15    15  490777\n",
      "16    16  463957\n",
      "17    17  517796\n",
      "18    18  575606\n",
      "19    19  543217\n",
      "20    20  481648\n",
      "21    21  475072\n",
      "22    22  439444\n",
      "23    23  342791\n"
     ]
    },
    {
     "data": {
      "image/png": "[encoded data removed]",
      "text/plain": [
       "<Figure size 432x288 with 1 Axes>"
      ]
     },
     "metadata": {},
     "output_type": "display_data"
    }
   ],
   "source": [
    "# [RQ2] What are the time slots with more passengers?\n",
    "# Set your own time slots and discover which are those when Taxis drive the highest number of passengers\n",
    "# overall New York and repeat the analysis for each borough. Provide the results through a visualization and comment them.\n",
    "\n",
    "import matplotlib.pyplot as plt\n",
    "import pandas as pd\n",
    "\n",
    "xmlpath = \"yellow_tripdata_2018-01.csv\";\n",
    "\n",
    "chunksize = 50000\n",
    "yellowCabDf = None\n",
    "taxiZoneDf = pd.read_csv('taxi_zone_lookup.csv', usecols=['LocationID', 'Borough', 'Zone'])\n",
    "# print(taxiZoneDf.head())\n",
    "finalDf = pd.DataFrame([])\n",
    "counter = 0;\n",
    "\n",
    "for chunk in pd.read_csv(xmlpath,\n",
    "                         usecols=['tpep_pickup_datetime', 'trip_distance', 'tpep_dropoff_datetime', 'PULocationID'],\n",
    "                         chunksize=chunksize, iterator=True):\n",
    "    joinDf = chunk\\\n",
    "        .dropna() \\\n",
    "        .merge(taxiZoneDf, how='inner', left_on=['PULocationID'], right_on=['LocationID'])\n",
    "    # .drop(chunk[(chunk.trip_distance <= 0) | (chunk.tpep_dropoff_datetime == chunk.tpep_pickup_datetime)]) \\\n",
    "\n",
    "    tempDf = pd.DatetimeIndex(joinDf['tpep_pickup_datetime'])\n",
    "    joinDf['year'] = tempDf.year\n",
    "    joinDf['month'] = tempDf.month\n",
    "    joinDf['day'] = tempDf.day\n",
    "    joinDf['hour'] = tempDf.hour\n",
    "    joinDf['minute'] = tempDf.minute\n",
    "    joinDf=joinDf.drop(joinDf[joinDf.year != 2018].index)\n",
    "    result = pd.DataFrame(joinDf.groupby(['hour'], as_index=True).size().reset_index(name='counts'))\n",
    "\n",
    "    finalDf = pd.concat([finalDf, result]).groupby(['hour'], as_index=False)['counts'].sum()\n",
    "\n",
    "\n",
    "#finalDf = finalDf.drop(finalDf[finalDf.year != 2018].index)\n",
    "finalDf = pd.DataFrame(finalDf.groupby(['hour']).sum().reset_index())\n",
    "#finalDf['time'] = finalDf['year'].map(str) + '/' + finalDf['month'].map(str) + '/' + finalDf['day'].map(str)\n",
    "print(finalDf)\n",
    "plt.plot(finalDf['hour'], finalDf['counts'])\n",
    "#plt.savefig()\n",
    "plt.show()\n"
   ]
  },
  {
   "cell_type": "code",
   "execution_count": null,
   "metadata": {},
   "outputs": [],
   "source": []
  }
 ],
 "metadata": {
  "kernelspec": {
   "display_name": "Python 3",
   "language": "python",
   "name": "python3"
  },
  "language_info": {
   "codemirror_mode": {
    "name": "ipython",
    "version": 3
   },
   "file_extension": ".py",
   "mimetype": "text/x-python",
   "name": "python",
   "nbconvert_exporter": "python",
   "pygments_lexer": "ipython3",
   "version": "3.6.5"
  }
 },
 "nbformat": 4,
 "nbformat_minor": 2
}
