{
 "cells": [
  {
   "cell_type": "markdown",
   "metadata": {},
   "source": [
    "# Homework 02 - Analysis of yellow taxis' rides in New York city\n"
   ]
  },
  {
   "cell_type": "code",
   "execution_count": 1,
   "metadata": {},
   "outputs": [],
   "source": [
    "import pandas as pd\n",
    "from datetime import datetime\n",
    "import time\n",
    "import matplotlib.pyplot as plt\n",
    "import json\n",
    "import folium\n",
    "from branca.colormap import linear\n",
    "import branca.colormap as cm\n",
    "import seaborn as sns"
   ]
  },
  {
   "cell_type": "markdown",
   "metadata": {},
   "source": [
    "## How to Clean Data"
   ]
  },
  {
   "cell_type": "markdown",
   "metadata": {},
   "source": [
    "## RQ 1 - Taxi usage along the months"
   ]
  },
  {
   "cell_type": "markdown",
   "metadata": {},
   "source": [
    "## RQ 2 - Taxi usage during a day"
   ]
  },
  {
   "cell_type": "markdown",
   "metadata": {},
   "source": [
    "## RQ 3 - Duration of taxis' rides\n",
    "This task has the aim to describe and illustrates the main characteristics of the duration of the trips during the first semester of 2018 in the whole City and to point out the differences between all the boroughs.  \n",
    "In order to solve this problem we made some assumptions:\n",
    "* In the borough part we have decided to keep in the plots the 'Unknown' borough. This has been decided because in the data the number of trips with this property is strongly significant. \n",
    "\n",
    "* All the analysis of trips duration is based on 4 different timeslot, that are: \n",
    "\n",
    "   1. Short trips: last in less or equal than 10 minutes.\n",
    "   2. Medium-short trips: between 10 and 20 minutes.\n",
    "   3. Medium-long trips: between 20 and 40 minutes.\n",
    "   4. Long trips: last in more than 40 minutes.\n",
    "\n",
    "In order to solve the task, there are three main steps to be computed:\n",
    "\n",
    "   1. Retrieve data of the different from the files.\n",
    "   2. Analysis of the whole Ney York\n",
    "   3. Analysis through all the Boroughs\n"
   ]
  },
  {
   "cell_type": "code",
   "execution_count": 3,
   "metadata": {},
   "outputs": [],
   "source": [
    "#global variables \n",
    "FMT = '%Y-%m-%d  %H:%M:%S'\n",
    "data2 = pd.read_csv(\"taxi _zone_lookup.csv\")\n",
    "b = ['Manhattan', 'Queens', 'EWR', 'Bronx', 'Staten Island', 'Brooklyn', 'Unknown']\n",
    "p1 = {}\n",
    "p2 = {}\n",
    "p3 = {}\n",
    "p4 = {}"
   ]
  },
  {
   "cell_type": "markdown",
   "metadata": {},
   "source": [
    "### Retrieve data of different months from the files.\n",
    "In this first part we pass through all the data present in the different files.  \n",
    "At the beginning it is necessary to initialize our variables loading the January file and cleaning up it (as it was described before). "
   ]
  },
  {
   "cell_type": "code",
   "execution_count": 4,
   "metadata": {},
   "outputs": [],
   "source": [
    "#initializing variables with JANUARY, whole NY\n",
    "\n",
    "# retieving data to be cleaned\n",
    "raw_data  = pd.read_csv(\"yellow_tripdata_2018-01.csv\")\n",
    "\n",
    "# cleaning data\n",
    "raw_data['delta'] = (pd.to_datetime(raw_data['tpep_dropoff_datetime']) -  pd.to_datetime(raw_data['tpep_pickup_datetime'])).astype('timedelta64[m]')\n",
    "data = raw_data.drop(raw_data[(raw_data.trip_distance >= 200) | (raw_data.delta > 180) |(raw_data.trip_distance <= 0) | (raw_data.tpep_dropoff_datetime == raw_data.tpep_pickup_datetime) | (pd.DatetimeIndex(raw_data['tpep_pickup_datetime']).month != 1) | (pd.DatetimeIndex(raw_data['tpep_pickup_datetime']).year != 2018) | (raw_data.total_amount < 3.3) | ((raw_data.total_amount / raw_data.trip_distance) > 17.5)].index) \n",
    "\n",
    "# free memory deleting the raw_data\n",
    "del raw_data\n",
    "\n",
    "# taking only the columns that I need\n",
    "data = data.loc[:, ['tpep_pickup_datetime', 'tpep_dropoff_datetime', 'PULocationID']]"
   ]
  },
  {
   "cell_type": "markdown",
   "metadata": {},
   "source": [
    "Due to the fact that we have decided to divide trips duration in 4 timeslots, we have calculated that for each trip present in the dataset. \n",
    "The variable `delta` represents the duration, in minutes, of any single trip."
   ]
  },
  {
   "cell_type": "code",
   "execution_count": null,
   "metadata": {},
   "outputs": [],
   "source": [
    "pickup_time = pd.to_datetime(data['tpep_pickup_datetime'].str.strip(), format = FMT)\n",
    "dropoff_time = pd.to_datetime(data['tpep_dropoff_datetime'].str.strip(), format = FMT)\n",
    "delta = (dropoff_time - pickup_time).astype('timedelta64[m]')\n",
    "\n",
    "del pickup_time\n",
    "del dropoff_time"
   ]
  },
  {
   "cell_type": "code",
   "execution_count": 5,
   "metadata": {},
   "outputs": [
    {
     "name": "stdout",
     "output_type": "stream",
     "text": [
      "Manhattan\n",
      "Queens\n",
      "EWR\n",
      "Bronx\n",
      "Staten Island\n",
      "Brooklyn\n",
      "Unknown\n"
     ]
    }
   ],
   "source": [
    "#initializing variables with JANUARY, each Borough\n",
    "\n",
    "borough = data.join(data2.set_index('LocationID'), on='PULocationID')\n",
    "\n",
    "del data\n",
    "\n",
    "for i in b:\n",
    "    bor = borough[borough.Borough == i]\n",
    "    pickup_time = pd.to_datetime(bor['tpep_pickup_datetime'].str.strip(), format = FMT)\n",
    "    dropoff_time = pd.to_datetime(bor['tpep_dropoff_datetime'].str.strip(), format = FMT)\n",
    "    delta_b = (dropoff_time - pickup_time).astype('timedelta64[m]')\n",
    "    \n",
    "    agg = pd.DataFrame(delta_b.value_counts(), columns = ['y'])\n",
    "    agg = agg[agg.index >= 0]\n",
    "    \n",
    "    less_ten = agg[agg.index <= 10].sort_index()\n",
    "    try:\n",
    "        pr1 = (less_ten.cumsum() / delta.size).tail(1).y.item()\n",
    "    except:\n",
    "        pr1 = 0\n",
    "    p1[i] = pr1 \n",
    "    less_twenty = agg[agg.index <= 20]\n",
    "    less_twenty = less_twenty[less_twenty.index > 10].sort_index()\n",
    "    try:\n",
    "        pr2 = (less_twenty.cumsum() / delta.size).tail(1).y.item()\n",
    "    except:\n",
    "        pr2 = 0\n",
    "    p2[i] = pr2 \n",
    "    more = agg[agg.index > 20]\n",
    "    more = more[more.index <= 30].sort_index()\n",
    "    try :\n",
    "        pr3 = (more.cumsum() / delta.size).tail(1).y.item()\n",
    "    except:\n",
    "        pr3 = 0\n",
    "    p3[i] = pr3 \n",
    "    more_hour = agg[agg.index > 30].sort_index()\n",
    "    try :\n",
    "        pr4 = (more_hour.cumsum() / delta.size).tail(1).y.item()\n",
    "    except:\n",
    "        pr4 = 0\n",
    "    p4[i] = pr4\n"
   ]
  },
  {
   "cell_type": "markdown",
   "metadata": {},
   "source": [
    "The same procedure used in the initialization step with January is then applied to all the other months. \n",
    "At the end of this loop, for the whole city part, we saved the number of trips for all 1-minute timeslots.\n",
    "Instead, for the boroughs part, we kept for each borough the average percentages of the 4 timeslots presented before.  "
   ]
  },
  {
   "cell_type": "code",
   "execution_count": 7,
   "metadata": {},
   "outputs": [
    {
     "name": "stdout",
     "output_type": "stream",
     "text": [
      "Manhattan\n",
      "Queens\n",
      "EWR\n",
      "Bronx\n",
      "Staten Island\n",
      "Brooklyn\n",
      "Unknown\n",
      "Manhattan\n",
      "Queens\n",
      "EWR\n",
      "Bronx\n",
      "Staten Island\n",
      "Brooklyn\n",
      "Unknown\n",
      "Manhattan\n",
      "Queens\n",
      "EWR\n",
      "Bronx\n",
      "Staten Island\n",
      "Brooklyn\n",
      "Unknown\n",
      "Manhattan\n",
      "Queens\n",
      "EWR\n",
      "Bronx\n",
      "Staten Island\n",
      "Brooklyn\n",
      "Unknown\n",
      "Manhattan\n",
      "Queens\n",
      "EWR\n",
      "Bronx\n",
      "Staten Island\n",
      "Brooklyn\n",
      "Unknown\n"
     ]
    }
   ],
   "source": [
    "#retriving data in each month of 2018\n",
    "\n",
    "for i in range(2,7):\n",
    "        # retieving data to be cleaned\n",
    "        raw_data  = pd.read_csv(\"yellow_tripdata_2018-0\"+str(i)+\".csv\")\n",
    "\n",
    "        # cleaning data\n",
    "        raw_data['delta'] = (pd.to_datetime(raw_data['tpep_dropoff_datetime']) -  pd.to_datetime(raw_data['tpep_pickup_datetime'])).astype('timedelta64[m]')\n",
    "        data = raw_data.drop(raw_data[(raw_data.trip_distance >= 200) | (raw_data.delta > 180) |(raw_data.trip_distance <= 0) | (raw_data.tpep_dropoff_datetime == raw_data.tpep_pickup_datetime) | (pd.DatetimeIndex(raw_data['tpep_pickup_datetime']).month != i) | (pd.DatetimeIndex(raw_data['tpep_pickup_datetime']).year != 2018) | (raw_data.total_amount < 3.3) | ((raw_data.total_amount / raw_data.trip_distance) > 17.5)].index) \n",
    "\n",
    "        # free memory deleting the raw_data\n",
    "        del raw_data\n",
    "\n",
    "        # taking only the columns that I need\n",
    "        data = data.loc[:, ['tpep_pickup_datetime', 'tpep_dropoff_datetime', 'PULocationID']]\n",
    "    \n",
    "        pickup_time = pd.to_datetime(data['tpep_pickup_datetime'].str.strip(), format = FMT)\n",
    "        dropoff_time = pd.to_datetime(data['tpep_dropoff_datetime'].str.strip(), format = FMT)\n",
    "        delta = delta.append((dropoff_time - pickup_time).astype('timedelta64[m]'))\n",
    "        del pickup_time\n",
    "        del dropoff_time\n",
    "        agg = pd.DataFrame(delta.value_counts(), columns = ['number_of_rides'])\n",
    "        agg = agg[agg.index >= 0]\n",
    "                \n",
    "        borough = data.join(data2.set_index('LocationID'), on='PULocationID')\n",
    "        del data\n",
    "        \n",
    "        #looking for timeslots data in each borough        \n",
    "        for i in b:\n",
    "            print(i)\n",
    "            bor = borough[borough.Borough == i]\n",
    "            pickup_time = pd.to_datetime(bor['tpep_pickup_datetime'].str.strip(), format = FMT)\n",
    "            dropoff_time = pd.to_datetime(bor['tpep_dropoff_datetime'].str.strip(), format = FMT)\n",
    "            delta_b = (dropoff_time - pickup_time).astype('timedelta64[m]')\n",
    "    \n",
    "            agg = pd.DataFrame(delta_b.value_counts(), columns = ['y'])\n",
    "            agg = agg[agg.index >= 0]\n",
    "    \n",
    "            less_ten = agg[agg.index <= 10].sort_index()\n",
    "            try:\n",
    "                pr1 = (less_ten.cumsum() / delta_b.size).tail(1).y.item()\n",
    "            except:\n",
    "                pr1 = 0\n",
    "            p1[i] = (p1[i] + pr1) /2\n",
    "            less_twenty = agg[agg.index <= 20]\n",
    "            less_twenty = less_twenty[less_twenty.index > 10].sort_index()\n",
    "            try:\n",
    "                pr2 = (less_twenty.cumsum() / delta_b.size).tail(1).y.item()\n",
    "            except:\n",
    "                pr2 = 0\n",
    "            p2[i] = (p2[i] + pr2) /2\n",
    "            more = agg[agg.index > 20]\n",
    "            more = more[more.index <= 40].sort_index()\n",
    "            try :\n",
    "                pr3 = (more.cumsum() / delta_b.size).tail(1).y.item()\n",
    "            except:\n",
    "                pr3 = 0\n",
    "            p3[i] = (p3[i] + pr3) /2\n",
    "            more_hour = agg[agg.index > 40].sort_index()\n",
    "            try :\n",
    "                pr4 = (more_hour.cumsum() / delta_b.size).tail(1).y.item()\n",
    "            except:\n",
    "                pr4 = 0\n",
    "            p4[i] = (p4[i] + pr4) /2\n",
    "del data2"
   ]
  },
  {
   "cell_type": "markdown",
   "metadata": {},
   "source": [
    "### Analysis of the whole Ney York\n"
   ]
  },
  {
   "cell_type": "markdown",
   "metadata": {},
   "source": [
    "In this part, we illustrates through graphs the distribution of the trips duration through the City. \n",
    "\n",
    "The table shows the 1-minute timeslots and the related number of trips.\n",
    "\n",
    "The first plot represents the distribution of the trips from 0 to 60 minutes. It can be seen that the highest number of rides last in the firts 10 minutes. The maximum is reached by the trip that last in 6 minutes. \n",
    "The graph also shows that the rides seem to exponentially decrease as longer they become."
   ]
  },
  {
   "cell_type": "code",
   "execution_count": 27,
   "metadata": {},
   "outputs": [
    {
     "name": "stdout",
     "output_type": "stream",
     "text": [
      "       number_of_rides\n",
      "6.0            3335119\n",
      "5.0            3284572\n",
      "7.0            3263111\n",
      "8.0            3115764\n",
      "4.0            3038165\n",
      "9.0            2925037\n",
      "10.0           2715572\n",
      "11.0           2495598\n",
      "3.0            2431659\n",
      "12.0           2276990\n",
      "13.0           2069664\n",
      "14.0           1872259\n",
      "15.0           1690550\n",
      "16.0           1526378\n",
      "2.0            1499562\n",
      "17.0           1373976\n",
      "18.0           1236382\n",
      "19.0           1110702\n",
      "20.0            998900\n",
      "21.0            899876\n",
      "22.0            809597\n",
      "23.0            731470\n",
      "24.0            658379\n",
      "25.0            592608\n",
      "26.0            533173\n",
      "1.0             519010\n",
      "27.0            482728\n",
      "28.0            433687\n",
      "29.0            391359\n",
      "30.0            352991\n",
      "...                ...\n",
      "154.0               49\n",
      "151.0               48\n",
      "147.0               47\n",
      "155.0               46\n",
      "164.0               43\n",
      "159.0               37\n",
      "153.0               37\n",
      "157.0               37\n",
      "160.0               37\n",
      "177.0               36\n",
      "172.0               36\n",
      "158.0               34\n",
      "162.0               34\n",
      "163.0               34\n",
      "161.0               33\n",
      "156.0               32\n",
      "169.0               32\n",
      "171.0               31\n",
      "165.0               30\n",
      "179.0               29\n",
      "167.0               29\n",
      "168.0               27\n",
      "174.0               27\n",
      "170.0               24\n",
      "175.0               24\n",
      "180.0               24\n",
      "166.0               23\n",
      "176.0               21\n",
      "173.0               21\n",
      "178.0               12\n",
      "\n",
      "[181 rows x 1 columns]\n"
     ]
    },
    {
     "data": {
      "text/plain": [
       "[Text(0, 0.5, 'Number of trips'), Text(0.5, 0, 'Duration (minutes)')]"
      ]
     },
     "execution_count": 27,
     "metadata": {},
     "output_type": "execute_result"
    },
    {
     "data": {
      "image/png": "[encoded data removed]",
      "text/plain": [
       "<Figure size 842.4x595.44 with 1 Axes>"
      ]
     },
     "metadata": {
      "needs_background": "light"
     },
     "output_type": "display_data"
    }
   ],
   "source": [
    "#creating the dataframe. Each column of the plot represents a 1-minute timeslot (ascending order)\n",
    "agg = pd.DataFrame(delta.value_counts(), columns = ['number_of_rides'])\n",
    "agg = agg[agg.index >= 0]\n",
    "print(agg)\n",
    "distro = agg[agg.index <= 60]\n",
    "distro = distro.sort_index()\n",
    "\n",
    "fig, ax = plt.subplots()\n",
    "fig.set_size_inches(11.7, 8.27)\n",
    "ax = sns.barplot(x = distro.index, y = 'number_of_rides', data=distro, )\n",
    "ax.set(xlabel='Duration (minutes)', ylabel='Number of trips')\n"
   ]
  },
  {
   "cell_type": "markdown",
   "metadata": {},
   "source": [
    "This code is used to divide the all the 1-minute timeslots into the 4 timeslots."
   ]
  },
  {
   "cell_type": "code",
   "execution_count": 21,
   "metadata": {},
   "outputs": [],
   "source": [
    "#rides that least less than 10 minutes\n",
    "less_ten = agg[agg.index <= 10]\n",
    "less_ten = less_ten.sort_index()\n",
    "percent1 = (less_ten.cumsum() / delta.size).tail(1).number_of_rides.item()\n",
    "\n",
    "#rides that least more than 10 minutes and less 20 minutes\n",
    "less_twenty = agg[agg.index <= 20]\n",
    "less_twenty = less_twenty[less_twenty.index > 10]\n",
    "less_twenty = less_twenty.sort_index()\n",
    "percent2 = (less_twenty.cumsum() / delta.size).tail(1).number_of_rides.item()\n",
    "\n",
    "#rides that least more than 20 minutes and less than 40 minutes\n",
    "more = agg[agg.index > 20]\n",
    "more = more[more.index <= 40]\n",
    "more = more.sort_index()\n",
    "percent3 = (more.cumsum() / delta.size).tail(1).number_of_rides.item()\n",
    "\n",
    "#rides that least more 40 minutes\n",
    "more_hour = agg[agg.index > 40] \n",
    "more_hour = more_hour.sort_index()\n",
    "percent4 = (more_hour.cumsum() / delta.size).tail(1).number_of_rides.item()"
   ]
  },
  {
   "cell_type": "markdown",
   "metadata": {},
   "source": [
    "A relevant information about the distribution of the various durations can be seen thanks to the pie chart. \n",
    "Here is shown the contrast that is present between short and long rides. The half of all the trips is formed by the less-than-10-minutes trips. It is also highlited that the short and the medium-short rides are the 80% of the total. "
   ]
  },
  {
   "cell_type": "code",
   "execution_count": 20,
   "metadata": {},
   "outputs": [
    {
     "data": {
      "text/plain": [
       "<matplotlib.axes._subplots.AxesSubplot at 0x2a64994c320>"
      ]
     },
     "execution_count": 20,
     "metadata": {},
     "output_type": "execute_result"
    },
    {
     "data": {
      "image/png": "[encoded data removed]",
      "text/plain": [
       "<Figure size 504x504 with 1 Axes>"
      ]
     },
     "metadata": {},
     "output_type": "display_data"
    }
   ],
   "source": [
    "d = {'Time Distribution in the whole NY': [percent1, percent2, percent3, percent4]}\n",
    "df = pd.DataFrame(data=d, index=['<= 10 minutes', '10 < minutes <= 20', '20 < minutes <= 40', 'minutes > 40'])\n",
    "plt.figure(figsize=(7,7))\n",
    "explode = (0.03, 0.03, 0.03, 0.03) \n",
    "df['Time Distribution in the whole NY'].plot.pie(autopct='%1.1f%%', explode = explode, startangle=90, shadow=True, legend = False, fontsize=10)"
   ]
  },
  {
   "cell_type": "markdown",
   "metadata": {},
   "source": [
    "### Analysis through all the Boroughs\n",
    "In this part we focused our attention in the differences present through the NY's boroughs.\n",
    "First of all the table represented percentages-per-timeslots for each borough was created. "
   ]
  },
  {
   "cell_type": "code",
   "execution_count": 22,
   "metadata": {},
   "outputs": [
    {
     "data": {
      "text/html": [
       "<div>\n",
       "<style scoped>\n",
       "    .dataframe tbody tr th:only-of-type {\n",
       "        vertical-align: middle;\n",
       "    }\n",
       "\n",
       "    .dataframe tbody tr th {\n",
       "        vertical-align: top;\n",
       "    }\n",
       "\n",
       "    .dataframe thead th {\n",
       "        text-align: right;\n",
       "    }\n",
       "</style>\n",
       "<table border=\"1\" class=\"dataframe\">\n",
       "  <thead>\n",
       "    <tr style=\"text-align: right;\">\n",
       "      <th></th>\n",
       "      <th>&lt;= 10 min</th>\n",
       "      <th>10 &lt; min &lt;= 20</th>\n",
       "      <th>20 &lt; min &lt;= 40</th>\n",
       "      <th>min &gt; 40</th>\n",
       "    </tr>\n",
       "  </thead>\n",
       "  <tbody>\n",
       "    <tr>\n",
       "      <th>Manhattan</th>\n",
       "      <td>0.508207</td>\n",
       "      <td>0.328811</td>\n",
       "      <td>0.142939</td>\n",
       "      <td>0.019956</td>\n",
       "    </tr>\n",
       "    <tr>\n",
       "      <th>Queens</th>\n",
       "      <td>0.096896</td>\n",
       "      <td>0.150493</td>\n",
       "      <td>0.412505</td>\n",
       "      <td>0.339186</td>\n",
       "    </tr>\n",
       "    <tr>\n",
       "      <th>EWR</th>\n",
       "      <td>0.572809</td>\n",
       "      <td>0.078868</td>\n",
       "      <td>0.155915</td>\n",
       "      <td>0.170924</td>\n",
       "    </tr>\n",
       "    <tr>\n",
       "      <th>Bronx</th>\n",
       "      <td>0.328116</td>\n",
       "      <td>0.286113</td>\n",
       "      <td>0.251281</td>\n",
       "      <td>0.133514</td>\n",
       "    </tr>\n",
       "    <tr>\n",
       "      <th>Staten Island</th>\n",
       "      <td>0.257170</td>\n",
       "      <td>0.145728</td>\n",
       "      <td>0.212865</td>\n",
       "      <td>0.373495</td>\n",
       "    </tr>\n",
       "    <tr>\n",
       "      <th>Brooklyn</th>\n",
       "      <td>0.412966</td>\n",
       "      <td>0.332467</td>\n",
       "      <td>0.206167</td>\n",
       "      <td>0.047434</td>\n",
       "    </tr>\n",
       "    <tr>\n",
       "      <th>Unknown</th>\n",
       "      <td>0.485627</td>\n",
       "      <td>0.317002</td>\n",
       "      <td>0.158226</td>\n",
       "      <td>0.038185</td>\n",
       "    </tr>\n",
       "  </tbody>\n",
       "</table>\n",
       "</div>"
      ],
      "text/plain": [
       "               <= 10 min  10 < min <= 20  20 < min <= 40  min > 40\n",
       "Manhattan       0.508207        0.328811        0.142939  0.019956\n",
       "Queens          0.096896        0.150493        0.412505  0.339186\n",
       "EWR             0.572809        0.078868        0.155915  0.170924\n",
       "Bronx           0.328116        0.286113        0.251281  0.133514\n",
       "Staten Island   0.257170        0.145728        0.212865  0.373495\n",
       "Brooklyn        0.412966        0.332467        0.206167  0.047434\n",
       "Unknown         0.485627        0.317002        0.158226  0.038185"
      ]
     },
     "execution_count": 22,
     "metadata": {},
     "output_type": "execute_result"
    }
   ],
   "source": [
    "my1 = pd.DataFrame.from_dict(p1, orient='index', dtype=None, columns=['<= 10 min'])\n",
    "my2 = pd.DataFrame.from_dict(p2, orient='index', dtype=None, columns=['10 < min <= 20'])\n",
    "my3 = pd.DataFrame.from_dict(p3, orient='index', dtype=None, columns=['20 < min <= 40'])\n",
    "my4 = pd.DataFrame.from_dict(p4, orient='index', dtype=None, columns=['min > 40'])\n",
    "\n",
    "result = pd.concat([my1, my2, my3], axis=1)\n",
    "my4 = my4.reset_index(drop=True)\n",
    "result = result.reset_index(drop=True)\n",
    "result = result.join(my4)\n",
    "result = result.rename(index={0: 'Manhattan', 1: 'Queens', 2: 'EWR', 3:'Bronx', 4: 'Staten Island', 5:'Brooklyn', 6:'Unknown'})\n",
    "\n",
    "result"
   ]
  },
  {
   "cell_type": "markdown",
   "metadata": {},
   "source": [
    "The following bar chart shows borough per bourough how the timeslots percentages differ. \n",
    "It can be seen that the percentages of the boroughs are diffent from what we said about the whole city. It seems that only Manhattan (and the Unknown) reflects the prportion found before. \n",
    "In two boroughs, Queens and Staten Island, the short trips are not the highest percentage but the medium-long and the long trips.\n",
    "In the EWR zones the short rides reach almost the 60%.  "
   ]
  },
  {
   "cell_type": "code",
   "execution_count": 39,
   "metadata": {},
   "outputs": [
    {
     "data": {
      "text/plain": [
       "<matplotlib.axes._subplots.AxesSubplot at 0x2a64d3db198>"
      ]
     },
     "execution_count": 39,
     "metadata": {},
     "output_type": "execute_result"
    },
    {
     "data": {
      "image/png": "[encoded data removed]",
      "text/plain": [
       "<Figure size 842.4x595.44 with 1 Axes>"
      ]
     },
     "metadata": {
      "needs_background": "light"
     },
     "output_type": "display_data"
    }
   ],
   "source": [
    "fig, ax = plt.subplots()\n",
    "fig.set_size_inches(11.7, 8.27)\n",
    "ax = result.plot.bar(ax =ax)\n",
    "ax"
   ]
  },
  {
   "cell_type": "markdown",
   "metadata": {},
   "source": [
    "The area plot explains with colors how the different boroughs' percentages are distributed.  "
   ]
  },
  {
   "cell_type": "code",
   "execution_count": 45,
   "metadata": {},
   "outputs": [
    {
     "data": {
      "text/plain": [
       "<matplotlib.axes._subplots.AxesSubplot at 0x2a68e7a0e48>"
      ]
     },
     "execution_count": 45,
     "metadata": {},
     "output_type": "execute_result"
    },
    {
     "data": {
      "image/png": "[encoded data removed]",
      "text/plain": [
       "<Figure size 842.4x595.44 with 1 Axes>"
      ]
     },
     "metadata": {
      "needs_background": "light"
     },
     "output_type": "display_data"
    }
   ],
   "source": [
    "fig, ax = plt.subplots()\n",
    "fig.set_size_inches(11.7, 8.27)\n",
    "result.plot.area(ax = ax)\n"
   ]
  },
  {
   "cell_type": "markdown",
   "metadata": {},
   "source": [
    "## RQ 4 - Most used payment method"
   ]
  },
  {
   "cell_type": "markdown",
   "metadata": {},
   "source": [
    "## RQ 5 - Correlation between distance and duration of trips"
   ]
  },
  {
   "cell_type": "markdown",
   "metadata": {},
   "source": [
    "## CRQ 1 -  Correlation between fare for mile and NY's borough"
   ]
  },
  {
   "cell_type": "markdown",
   "metadata": {},
   "source": [
    "## CRQ 2 - Visualization of taxis' movements"
   ]
  },
  {
   "cell_type": "code",
   "execution_count": null,
   "metadata": {},
   "outputs": [],
   "source": []
  }
 ],
 "metadata": {
  "kernelspec": {
   "display_name": "Python 3",
   "language": "python",
   "name": "python3"
  },
  "language_info": {
   "codemirror_mode": {
    "name": "ipython",
    "version": 3
   },
   "file_extension": ".py",
   "mimetype": "text/x-python",
   "name": "python",
   "nbconvert_exporter": "python",
   "pygments_lexer": "ipython3",
   "version": "3.6.6"
  }
 },
 "nbformat": 4,
 "nbformat_minor": 2
}
