{
 "cells": [
  {
   "cell_type": "markdown",
   "metadata": {},
   "source": [
    "# Homework 02 - Analysis of yellow taxis' rides in New York city\n"
   ]
  },
  {
   "cell_type": "code",
   "execution_count": 1,
   "metadata": {},
   "outputs": [],
   "source": [
    "import pandas as pd\n",
    "from datetime import datetime\n",
    "import time\n",
    "import matplotlib.pyplot as plt\n",
    "import json\n",
    "import folium\n",
    "from branca.colormap import linear\n",
    "import branca.colormap as cm\n",
    "import seaborn as sns"
   ]
  },
  {
   "cell_type": "markdown",
   "metadata": {},
   "source": [
    "## How to Clean Data\n",
    "A fondamental step that is necessary to have more detailed and precise analysis is to clean up the initial given data. This means that in the millions of entries in the data we found a lot of weird values and we decided to cut them out from our analysis.\n",
    "\n",
    "These are all the entries that have been deleted:\n",
    "* Trips with a distance less or equal to zero. \n",
    "* The initial time of a trip must be strictly lower than the dropoff time.\n",
    "* Total amount for a ride has to be greater ot at least equal to 3.3 dollars. This value is obtained from the (legend file)[http://www.nyc.gov/html/tlc/downloads/pdf/taxi_information.pdf] for taxis in New York, where is sated that there is an initial charge of 2.50 dollars plus 50 cent of State surcharge and 30 cent of improvement surcharge.\n",
    "* There coulb be also errors with the dates. For this reason we heve controlled for each entry if the year is 2018 and that the month corresponds with the one that is being analyzed.\n",
    "* We found some trips that has a long duration (i.e. more than 5 hours). We retained that a taxi trips can not be too long and for this reason we dropped all the trips longer than 3 hours.\n",
    "* There were also very long rides, with houndres of miles as distance. We dropped all trips longer than 200 miles.\n",
    "* The last thing that we dropped was the high rates for price over miles. We cut all the rates greater than 17.5 dollars per miles.\n",
    "\n",
    "The initial data had size $53925735$ and the analyzed has size $52239189$.\n",
    "\n",
    "The dropped lines are $1686546$ in total."
   ]
  },
  {
   "cell_type": "markdown",
   "metadata": {},
   "source": [
    "## RQ 1 - Taxi usage along the months"
   ]
  },
  {
   "cell_type": "markdown",
   "metadata": {},
   "source": [
    "## RQ 2 - Taxi usage during a day"
   ]
  },
  {
   "cell_type": "markdown",
   "metadata": {},
   "source": [
    "## RQ 3 - Duration of taxis' rides\n",
    "This task has the aim to describe and illustrates the main characteristics of the duration of the trips during the first semester of 2018 in the whole City and to point out the differences between all the boroughs.  \n",
    "In order to solve this problem we made some assumptions:\n",
    "* In the borough part we have decided to keep in the plots the 'Unknown' borough. This has been decided because in the data the number of trips with this property is strongly significant. \n",
    "\n",
    "* All the analysis of trips duration is based on 4 different timeslot, that are: \n",
    "\n",
    "   1. Short trips: last in less or equal than 10 minutes.\n",
    "   2. Medium-short trips: between 10 and 20 minutes.\n",
    "   3. Medium-long trips: between 20 and 40 minutes.\n",
    "   4. Long trips: last in more than 40 minutes.\n",
    "\n",
    "In order to solve the task, there are three main steps to be computed:\n",
    "\n",
    "   1. Retrieve data of the different from the files.\n",
    "   2. Analysis of the whole Ney York\n",
    "   3. Analysis through all the Boroughs\n"
   ]
  },
  {
   "cell_type": "code",
   "execution_count": 2,
   "metadata": {},
   "outputs": [],
   "source": [
    "#global variables \n",
    "FMT = '%Y-%m-%d  %H:%M:%S'\n",
    "data2 = pd.read_csv(\"taxi _zone_lookup.csv\")\n",
    "b = ['Manhattan', 'Queens', 'EWR', 'Bronx', 'Staten Island', 'Brooklyn', 'Unknown']\n",
    "p1 = {}\n",
    "p2 = {}\n",
    "p3 = {}\n",
    "p4 = {}"
   ]
  },
  {
   "cell_type": "markdown",
   "metadata": {},
   "source": [
    "### Retrieve data of different months from the files.\n",
    "In this first part we pass through all the data present in the different files.  \n",
    "At the beginning it is necessary to initialize our variables loading the January file and cleaning up it (as it was described before). "
   ]
  },
  {
   "cell_type": "code",
   "execution_count": 3,
   "metadata": {},
   "outputs": [],
   "source": [
    "#initializing variables with JANUARY, whole NY\n",
    "\n",
    "# retieving data to be cleaned\n",
    "raw_data  = pd.read_csv(\"yellow_tripdata_2018-01.csv\")\n",
    "\n",
    "# cleaning data\n",
    "raw_data['delta'] = (pd.to_datetime(raw_data['tpep_dropoff_datetime']) -  pd.to_datetime(raw_data['tpep_pickup_datetime'])).astype('timedelta64[m]')\n",
    "data = raw_data.drop(raw_data[(raw_data.trip_distance >= 200) | (raw_data.delta > 180) |(raw_data.trip_distance <= 0) | (raw_data.tpep_dropoff_datetime == raw_data.tpep_pickup_datetime) | (pd.DatetimeIndex(raw_data['tpep_pickup_datetime']).month != 1) | (pd.DatetimeIndex(raw_data['tpep_pickup_datetime']).year != 2018) | (raw_data.total_amount < 3.3) | ((raw_data.total_amount / raw_data.trip_distance) > 17.5)].index) \n",
    "\n",
    "# free memory deleting the raw_data\n",
    "del raw_data\n",
    "\n",
    "# taking only the columns that I need\n",
    "data = data.loc[:, ['tpep_pickup_datetime', 'tpep_dropoff_datetime', 'PULocationID']]"
   ]
  },
  {
   "cell_type": "markdown",
   "metadata": {},
   "source": [
    "Due to the fact that we have decided to divide trips duration in 4 timeslots, we have calculated that for each trip present in the dataset. \n",
    "The variable `delta` represents the duration, in minutes, of any single trip."
   ]
  },
  {
   "cell_type": "code",
   "execution_count": 4,
   "metadata": {},
   "outputs": [],
   "source": [
    "pickup_time = pd.to_datetime(data['tpep_pickup_datetime'].str.strip(), format = FMT)\n",
    "dropoff_time = pd.to_datetime(data['tpep_dropoff_datetime'].str.strip(), format = FMT)\n",
    "delta = (dropoff_time - pickup_time).astype('timedelta64[m]')\n",
    "\n",
    "del pickup_time\n",
    "del dropoff_time"
   ]
  },
  {
   "cell_type": "code",
   "execution_count": 5,
   "metadata": {},
   "outputs": [
    {
     "name": "stdout",
     "output_type": "stream",
     "text": [
      "Manhattan\n",
      "Queens\n",
      "EWR\n",
      "Bronx\n",
      "Staten Island\n",
      "Brooklyn\n",
      "Unknown\n"
     ]
    }
   ],
   "source": [
    "#initializing variables with JANUARY, each Borough\n",
    "\n",
    "borough = data.join(data2.set_index('LocationID'), on='PULocationID')\n",
    "\n",
    "del data\n",
    "\n",
    "for i in b:\n",
    "    bor = borough[borough.Borough == i]\n",
    "    pickup_time = pd.to_datetime(bor['tpep_pickup_datetime'].str.strip(), format = FMT)\n",
    "    dropoff_time = pd.to_datetime(bor['tpep_dropoff_datetime'].str.strip(), format = FMT)\n",
    "    delta_b = (dropoff_time - pickup_time).astype('timedelta64[m]')\n",
    "    \n",
    "    agg = pd.DataFrame(delta_b.value_counts(), columns = ['y'])\n",
    "    agg = agg[agg.index >= 0]\n",
    "    \n",
    "    less_ten = agg[agg.index <= 10].sort_index()\n",
    "    try:\n",
    "        pr1 = (less_ten.cumsum() / delta.size).tail(1).y.item()\n",
    "    except:\n",
    "        pr1 = 0\n",
    "    p1[i] = pr1 \n",
    "    less_twenty = agg[agg.index <= 20]\n",
    "    less_twenty = less_twenty[less_twenty.index > 10].sort_index()\n",
    "    try:\n",
    "        pr2 = (less_twenty.cumsum() / delta.size).tail(1).y.item()\n",
    "    except:\n",
    "        pr2 = 0\n",
    "    p2[i] = pr2 \n",
    "    more = agg[agg.index > 20]\n",
    "    more = more[more.index <= 30].sort_index()\n",
    "    try :\n",
    "        pr3 = (more.cumsum() / delta.size).tail(1).y.item()\n",
    "    except:\n",
    "        pr3 = 0\n",
    "    p3[i] = pr3 \n",
    "    more_hour = agg[agg.index > 30].sort_index()\n",
    "    try :\n",
    "        pr4 = (more_hour.cumsum() / delta.size).tail(1).y.item()\n",
    "    except:\n",
    "        pr4 = 0\n",
    "    p4[i] = pr4\n"
   ]
  },
  {
   "cell_type": "markdown",
   "metadata": {},
   "source": [
    "The same procedure used in the initialization step with January is then applied to all the other months. \n",
    "At the end of this loop, for the whole city part, we saved the number of trips for all 1-minute timeslots.\n",
    "Instead, for the boroughs part, we kept for each borough the average percentages of the 4 timeslots presented before.  "
   ]
  },
  {
   "cell_type": "code",
   "execution_count": 7,
   "metadata": {},
   "outputs": [
    {
     "name": "stdout",
     "output_type": "stream",
     "text": [
      "2\n",
      "Manhattan\n",
      "Queens\n",
      "EWR\n",
      "Bronx\n",
      "Staten Island\n",
      "Brooklyn\n",
      "Unknown\n",
      "3\n",
      "Manhattan\n",
      "Queens\n",
      "EWR\n",
      "Bronx\n",
      "Staten Island\n",
      "Brooklyn\n",
      "Unknown\n",
      "4\n",
      "Manhattan\n",
      "Queens\n",
      "EWR\n",
      "Bronx\n",
      "Staten Island\n",
      "Brooklyn\n",
      "Unknown\n",
      "5\n",
      "Manhattan\n",
      "Queens\n",
      "EWR\n",
      "Bronx\n",
      "Staten Island\n",
      "Brooklyn\n",
      "Unknown\n",
      "6\n",
      "Manhattan\n",
      "Queens\n",
      "EWR\n",
      "Bronx\n",
      "Staten Island\n",
      "Brooklyn\n",
      "Unknown\n"
     ]
    }
   ],
   "source": [
    "#retriving data in each month of 2018\n",
    "\n",
    "for i in range(2,7):\n",
    "        # retieving data to be cleaned\n",
    "        raw_data  = pd.read_csv(\"yellow_tripdata_2018-0\"+str(i)+\".csv\")\n",
    "\n",
    "        # cleaning data\n",
    "        raw_data['delta'] = (pd.to_datetime(raw_data['tpep_dropoff_datetime']) -  pd.to_datetime(raw_data['tpep_pickup_datetime'])).astype('timedelta64[m]')\n",
    "        data = raw_data.drop(raw_data[(raw_data.trip_distance >= 200) | (raw_data.delta > 180) |(raw_data.trip_distance <= 0) | (raw_data.tpep_dropoff_datetime == raw_data.tpep_pickup_datetime) | (pd.DatetimeIndex(raw_data['tpep_pickup_datetime']).month != i) | (pd.DatetimeIndex(raw_data['tpep_pickup_datetime']).year != 2018) | (raw_data.total_amount < 3.3) | ((raw_data.total_amount / raw_data.trip_distance) > 17.5)].index) \n",
    "\n",
    "        # free memory deleting the raw_data\n",
    "        del raw_data\n",
    "\n",
    "        # taking only the columns that I need\n",
    "        data = data.loc[:, ['tpep_pickup_datetime', 'tpep_dropoff_datetime', 'PULocationID']]\n",
    "    \n",
    "        pickup_time = pd.to_datetime(data['tpep_pickup_datetime'].str.strip(), format = FMT)\n",
    "        dropoff_time = pd.to_datetime(data['tpep_dropoff_datetime'].str.strip(), format = FMT)\n",
    "        delta = delta.append((dropoff_time - pickup_time).astype('timedelta64[m]'))\n",
    "        del pickup_time\n",
    "        del dropoff_time\n",
    "        agg = pd.DataFrame(delta.value_counts(), columns = ['number_of_rides'])\n",
    "        agg = agg[agg.index >= 0]\n",
    "                \n",
    "        borough = data.join(data2.set_index('LocationID'), on='PULocationID')\n",
    "        del data\n",
    "        \n",
    "        #looking for timeslots data in each borough        \n",
    "        for i in b:\n",
    "            bor = borough[borough.Borough == i]\n",
    "            pickup_time = pd.to_datetime(bor['tpep_pickup_datetime'].str.strip(), format = FMT)\n",
    "            dropoff_time = pd.to_datetime(bor['tpep_dropoff_datetime'].str.strip(), format = FMT)\n",
    "            delta_b = (dropoff_time - pickup_time).astype('timedelta64[m]')\n",
    "    \n",
    "            agg = pd.DataFrame(delta_b.value_counts(), columns = ['y'])\n",
    "            agg = agg[agg.index >= 0]\n",
    "    \n",
    "            less_ten = agg[agg.index <= 10].sort_index()\n",
    "            try:\n",
    "                pr1 = (less_ten.cumsum() / delta_b.size).tail(1).y.item()\n",
    "            except:\n",
    "                pr1 = 0\n",
    "            p1[i] = (p1[i] + pr1) /2\n",
    "            less_twenty = agg[agg.index <= 20]\n",
    "            less_twenty = less_twenty[less_twenty.index > 10].sort_index()\n",
    "            try:\n",
    "                pr2 = (less_twenty.cumsum() / delta_b.size).tail(1).y.item()\n",
    "            except:\n",
    "                pr2 = 0\n",
    "            p2[i] = (p2[i] + pr2) /2\n",
    "            more = agg[agg.index > 20]\n",
    "            more = more[more.index <= 40].sort_index()\n",
    "            try :\n",
    "                pr3 = (more.cumsum() / delta_b.size).tail(1).y.item()\n",
    "            except:\n",
    "                pr3 = 0\n",
    "            p3[i] = (p3[i] + pr3) /2\n",
    "            more_hour = agg[agg.index > 40].sort_index()\n",
    "            try :\n",
    "                pr4 = (more_hour.cumsum() / delta_b.size).tail(1).y.item()\n",
    "            except:\n",
    "                pr4 = 0\n",
    "            p4[i] = (p4[i] + pr4) /2\n",
    "del data2"
   ]
  },
  {
   "cell_type": "markdown",
   "metadata": {},
   "source": [
    "### Analysis of the whole Ney York\n"
   ]
  },
  {
   "cell_type": "markdown",
   "metadata": {},
   "source": [
    "In this part, we illustrates through graphs the distribution of the trips duration through the City. \n",
    "\n",
    "The table shows the 1-minute timeslots and the related number of trips.\n",
    "\n",
    "The first plot represents the distribution of the trips from 0 to 60 minutes. It can be seen that the highest number of rides last in the firts 10 minutes. The maximum is reached by the trip that last in 6 minutes. \n",
    "The graph also shows that the rides seem to exponentially decrease as longer they become."
   ]
  },
  {
   "cell_type": "code",
   "execution_count": 8,
   "metadata": {},
   "outputs": [
    {
     "name": "stdout",
     "output_type": "stream",
     "text": [
      "     number_of_rides\n",
      "6            3302629\n",
      "5            3251613\n",
      "7            3231878\n",
      "8            3086113\n",
      "4            3006854\n",
      "9            2897917\n",
      "10           2691111\n",
      "11           2473022\n",
      "3            2405665\n",
      "12           2256591\n",
      "13           2051229\n",
      "14           1855543\n",
      "15           1675416\n",
      "16           1512975\n",
      "2            1482428\n",
      "17           1361811\n",
      "18           1225651\n",
      "19           1101046\n",
      "20            990215\n",
      "21            892089\n",
      "22            802377\n",
      "23            725042\n",
      "24            652749\n",
      "25            587382\n",
      "26            528531\n",
      "1             512337\n",
      "27            478587\n",
      "28            430088\n",
      "29            388186\n",
      "30            350115\n",
      "..               ...\n",
      "154               49\n",
      "151               48\n",
      "147               47\n",
      "155               45\n",
      "164               43\n",
      "159               37\n",
      "160               37\n",
      "157               37\n",
      "177               36\n",
      "172               36\n",
      "153               36\n",
      "158               34\n",
      "162               34\n",
      "163               34\n",
      "161               33\n",
      "169               32\n",
      "156               32\n",
      "171               31\n",
      "165               30\n",
      "167               29\n",
      "179               29\n",
      "168               27\n",
      "174               27\n",
      "170               24\n",
      "180               24\n",
      "175               24\n",
      "166               23\n",
      "176               21\n",
      "173               21\n",
      "178               12\n",
      "\n",
      "[181 rows x 1 columns]\n"
     ]
    },
    {
     "data": {
      "text/plain": [
       "[Text(0, 0.5, 'Number of trips'), Text(0.5, 0, 'Duration (minutes)')]"
      ]
     },
     "execution_count": 8,
     "metadata": {},
     "output_type": "execute_result"
    },
    {
     "data": {
      "image/png": "[encoded data removed]",
      "text/plain": [
       "<Figure size 842.4x595.44 with 1 Axes>"
      ]
     },
     "metadata": {
      "needs_background": "light"
     },
     "output_type": "display_data"
    }
   ],
   "source": [
    "#creating the dataframe. Each column of the plot represents a 1-minute timeslot (ascending order)\n",
    "agg = pd.DataFrame(delta.value_counts(), columns = ['number_of_rides'])\n",
    "agg = agg[agg.index >= 0]\n",
    "agg.index = agg.index.astype(int)\n",
    "print(agg)\n",
    "distro = agg[agg.index <= 60]\n",
    "distro = distro.sort_index()\n",
    "\n",
    "fig, ax = plt.subplots()\n",
    "fig.set_size_inches(11.7, 8.27)\n",
    "ax = sns.barplot(x = distro.index, y = 'number_of_rides', data=distro, )\n",
    "ax.set(xlabel='Duration (minutes)', ylabel='Number of trips')\n"
   ]
  },
  {
   "cell_type": "markdown",
   "metadata": {},
   "source": [
    "This code is used to divide the all the 1-minute timeslots into the 4 timeslots."
   ]
  },
  {
   "cell_type": "code",
   "execution_count": 9,
   "metadata": {},
   "outputs": [],
   "source": [
    "#rides that least less than 10 minutes\n",
    "less_ten = agg[agg.index <= 10]\n",
    "less_ten = less_ten.sort_index()\n",
    "percent1 = (less_ten.cumsum() / delta.size).tail(1).number_of_rides.item()\n",
    "\n",
    "#rides that least more than 10 minutes and less 20 minutes\n",
    "less_twenty = agg[agg.index <= 20]\n",
    "less_twenty = less_twenty[less_twenty.index > 10]\n",
    "less_twenty = less_twenty.sort_index()\n",
    "percent2 = (less_twenty.cumsum() / delta.size).tail(1).number_of_rides.item()\n",
    "\n",
    "#rides that least more than 20 minutes and less than 40 minutes\n",
    "more = agg[agg.index > 20]\n",
    "more = more[more.index <= 40]\n",
    "more = more.sort_index()\n",
    "percent3 = (more.cumsum() / delta.size).tail(1).number_of_rides.item()\n",
    "\n",
    "#rides that least more 40 minutes\n",
    "more_hour = agg[agg.index > 40] \n",
    "more_hour = more_hour.sort_index()\n",
    "percent4 = (more_hour.cumsum() / delta.size).tail(1).number_of_rides.item()"
   ]
  },
  {
   "cell_type": "markdown",
   "metadata": {},
   "source": [
    "A relevant information about the distribution of the various durations can be seen thanks to the pie chart. \n",
    "Here is shown the contrast that is present between short and long rides. The half of all the trips is formed by the less-than-10-minutes trips. It is also highlited that the short and the medium-short rides are the 80% of the total. "
   ]
  },
  {
   "cell_type": "code",
   "execution_count": 10,
   "metadata": {},
   "outputs": [
    {
     "data": {
      "text/plain": [
       "<matplotlib.axes._subplots.AxesSubplot at 0x22f8ee24cc0>"
      ]
     },
     "execution_count": 10,
     "metadata": {},
     "output_type": "execute_result"
    },
    {
     "data": {
      "image/png": "[encoded data removed]",
      "text/plain": [
       "<Figure size 504x504 with 1 Axes>"
      ]
     },
     "metadata": {},
     "output_type": "display_data"
    }
   ],
   "source": [
    "d = {'Time Distribution in the whole NY': [percent1, percent2, percent3, percent4]}\n",
    "df = pd.DataFrame(data=d, index=['<= 10 minutes', '10 < minutes <= 20', '20 < minutes <= 40', 'minutes > 40'])\n",
    "plt.figure(figsize=(7,7))\n",
    "explode = (0.03, 0.03, 0.03, 0.03) \n",
    "df['Time Distribution in the whole NY'].plot.pie(autopct='%1.1f%%', explode = explode, startangle=90, shadow=True, legend = False, fontsize=10)"
   ]
  },
  {
   "cell_type": "markdown",
   "metadata": {},
   "source": [
    "### Analysis through all the Boroughs\n",
    "In this part we focused our attention in the differences present through the NY's boroughs.\n",
    "First of all the table represented percentages-per-timeslots for each borough was created. "
   ]
  },
  {
   "cell_type": "code",
   "execution_count": 11,
   "metadata": {},
   "outputs": [
    {
     "data": {
      "text/html": [
       "<div>\n",
       "<style scoped>\n",
       "    .dataframe tbody tr th:only-of-type {\n",
       "        vertical-align: middle;\n",
       "    }\n",
       "\n",
       "    .dataframe tbody tr th {\n",
       "        vertical-align: top;\n",
       "    }\n",
       "\n",
       "    .dataframe thead th {\n",
       "        text-align: right;\n",
       "    }\n",
       "</style>\n",
       "<table border=\"1\" class=\"dataframe\">\n",
       "  <thead>\n",
       "    <tr style=\"text-align: right;\">\n",
       "      <th></th>\n",
       "      <th>&lt;= 10 min</th>\n",
       "      <th>10 &lt; min &lt;= 20</th>\n",
       "      <th>20 &lt; min &lt;= 40</th>\n",
       "      <th>min &gt; 40</th>\n",
       "    </tr>\n",
       "  </thead>\n",
       "  <tbody>\n",
       "    <tr>\n",
       "      <th>Manhattan</th>\n",
       "      <td>0.506962</td>\n",
       "      <td>0.328164</td>\n",
       "      <td>0.141510</td>\n",
       "      <td>0.020596</td>\n",
       "    </tr>\n",
       "    <tr>\n",
       "      <th>Queens</th>\n",
       "      <td>0.092294</td>\n",
       "      <td>0.145545</td>\n",
       "      <td>0.401409</td>\n",
       "      <td>0.331365</td>\n",
       "    </tr>\n",
       "    <tr>\n",
       "      <th>EWR</th>\n",
       "      <td>0.570856</td>\n",
       "      <td>0.071056</td>\n",
       "      <td>0.155915</td>\n",
       "      <td>0.170924</td>\n",
       "    </tr>\n",
       "    <tr>\n",
       "      <th>Bronx</th>\n",
       "      <td>0.317644</td>\n",
       "      <td>0.278729</td>\n",
       "      <td>0.244007</td>\n",
       "      <td>0.128393</td>\n",
       "    </tr>\n",
       "    <tr>\n",
       "      <th>Staten Island</th>\n",
       "      <td>0.257170</td>\n",
       "      <td>0.142798</td>\n",
       "      <td>0.212865</td>\n",
       "      <td>0.355917</td>\n",
       "    </tr>\n",
       "    <tr>\n",
       "      <th>Brooklyn</th>\n",
       "      <td>0.401287</td>\n",
       "      <td>0.322911</td>\n",
       "      <td>0.199381</td>\n",
       "      <td>0.045526</td>\n",
       "    </tr>\n",
       "    <tr>\n",
       "      <th>Unknown</th>\n",
       "      <td>0.469813</td>\n",
       "      <td>0.308022</td>\n",
       "      <td>0.154013</td>\n",
       "      <td>0.037428</td>\n",
       "    </tr>\n",
       "  </tbody>\n",
       "</table>\n",
       "</div>"
      ],
      "text/plain": [
       "               <= 10 min  10 < min <= 20  20 < min <= 40  min > 40\n",
       "Manhattan       0.506962        0.328164        0.141510  0.020596\n",
       "Queens          0.092294        0.145545        0.401409  0.331365\n",
       "EWR             0.570856        0.071056        0.155915  0.170924\n",
       "Bronx           0.317644        0.278729        0.244007  0.128393\n",
       "Staten Island   0.257170        0.142798        0.212865  0.355917\n",
       "Brooklyn        0.401287        0.322911        0.199381  0.045526\n",
       "Unknown         0.469813        0.308022        0.154013  0.037428"
      ]
     },
     "execution_count": 11,
     "metadata": {},
     "output_type": "execute_result"
    }
   ],
   "source": [
    "my1 = pd.DataFrame.from_dict(p1, orient='index', dtype=None, columns=['<= 10 min'])\n",
    "my2 = pd.DataFrame.from_dict(p2, orient='index', dtype=None, columns=['10 < min <= 20'])\n",
    "my3 = pd.DataFrame.from_dict(p3, orient='index', dtype=None, columns=['20 < min <= 40'])\n",
    "my4 = pd.DataFrame.from_dict(p4, orient='index', dtype=None, columns=['min > 40'])\n",
    "\n",
    "result = pd.concat([my1, my2, my3], axis=1)\n",
    "my4 = my4.reset_index(drop=True)\n",
    "result = result.reset_index(drop=True)\n",
    "result = result.join(my4)\n",
    "result = result.rename(index={0: 'Manhattan', 1: 'Queens', 2: 'EWR', 3:'Bronx', 4: 'Staten Island', 5:'Brooklyn', 6:'Unknown'})\n",
    "\n",
    "result"
   ]
  },
  {
   "cell_type": "markdown",
   "metadata": {},
   "source": [
    "The following bar chart shows borough per bourough how the timeslots percentages differ. \n",
    "It can be seen that the percentages of the boroughs are diffent from what we said about the whole city. It seems that only Manhattan (and the Unknown) reflects the prportion found before. \n",
    "In two boroughs, Queens and Staten Island, the short trips are not the highest percentage but the medium-long and the long trips.\n",
    "In the EWR zones the short rides reach almost the 60%.  "
   ]
  },
  {
   "cell_type": "code",
   "execution_count": 12,
   "metadata": {},
   "outputs": [
    {
     "data": {
      "text/plain": [
       "<matplotlib.axes._subplots.AxesSubplot at 0x22fbe78f320>"
      ]
     },
     "execution_count": 12,
     "metadata": {},
     "output_type": "execute_result"
    },
    {
     "data": {
      "image/png": "[encoded data removed]",
      "text/plain": [
       "<Figure size 842.4x595.44 with 1 Axes>"
      ]
     },
     "metadata": {
      "needs_background": "light"
     },
     "output_type": "display_data"
    }
   ],
   "source": [
    "fig, ax = plt.subplots()\n",
    "fig.set_size_inches(11.7, 8.27)\n",
    "ax = result.plot.bar(ax =ax)\n",
    "ax"
   ]
  },
  {
   "cell_type": "markdown",
   "metadata": {},
   "source": [
    "The area plot explains with colors how the different boroughs' percentages are distributed.  "
   ]
  },
  {
   "cell_type": "code",
   "execution_count": 13,
   "metadata": {},
   "outputs": [
    {
     "data": {
      "text/plain": [
       "<matplotlib.axes._subplots.AxesSubplot at 0x230024ba588>"
      ]
     },
     "execution_count": 13,
     "metadata": {},
     "output_type": "execute_result"
    },
    {
     "data": {
      "image/png": "[encoded data removed]",
      "text/plain": [
       "<Figure size 842.4x595.44 with 1 Axes>"
      ]
     },
     "metadata": {
      "needs_background": "light"
     },
     "output_type": "display_data"
    }
   ],
   "source": [
    "fig, ax = plt.subplots()\n",
    "fig.set_size_inches(11.7, 8.27)\n",
    "result.plot.area(ax = ax)\n"
   ]
  },
  {
   "cell_type": "markdown",
   "metadata": {},
   "source": [
    "## RQ 4 - Most used payment method"
   ]
  },
  {
   "cell_type": "markdown",
   "metadata": {},
   "source": [
    "## RQ 5 - Correlation between distance and duration of trips"
   ]
  },
  {
   "cell_type": "markdown",
   "metadata": {},
   "source": [
    "## CRQ 1 -  Correlation between fare for mile and NY's borough"
   ]
  },
  {
   "cell_type": "markdown",
   "metadata": {},
   "source": [
    "## CRQ 2 - Visualization of taxis' movements"
   ]
  },
  {
   "cell_type": "code",
   "execution_count": null,
   "metadata": {},
   "outputs": [],
   "source": []
  },
  {
   "cell_type": "code",
   "execution_count": null,
   "metadata": {},
   "outputs": [],
   "source": []
  }
 ],
 "metadata": {
  "kernelspec": {
   "display_name": "Python 3",
   "language": "python",
   "name": "python3"
  },
  "language_info": {
   "codemirror_mode": {
    "name": "ipython",
    "version": 3
   },
   "file_extension": ".py",
   "mimetype": "text/x-python",
   "name": "python",
   "nbconvert_exporter": "python",
   "pygments_lexer": "ipython3",
   "version": "3.6.6"
  }
 },
 "nbformat": 4,
 "nbformat_minor": 2
}
